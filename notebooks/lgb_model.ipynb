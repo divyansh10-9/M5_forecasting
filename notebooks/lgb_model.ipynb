{
 "cells": [
  {
   "cell_type": "code",
   "execution_count": 28,
   "id": "b6c20f26",
   "metadata": {},
   "outputs": [],
   "source": [
    "import numpy as np\n",
    "import pandas as pd\n",
    "import joblib\n",
    "from lightgbm import LGBMRegressor\n",
    "from sklearn.metrics import root_mean_squared_error\n",
    "import lightgbm as lgb\n",
    "import gc\n",
    "import os\n",
    "import warnings \n",
    "\n",
    "warnings.filterwarnings('ignore')"
   ]
  },
  {
   "cell_type": "code",
   "execution_count": 29,
   "id": "2a4eff3d",
   "metadata": {},
   "outputs": [],
   "source": [
    "os.chdir(\"c://Users//divya//desktop//TCS_TASK-1\")"
   ]
  },
  {
   "cell_type": "code",
   "execution_count": 30,
   "id": "45ba7a23",
   "metadata": {},
   "outputs": [],
   "source": [
    "from src.pipeline import merge_and_melt, fill_sell, fill_event, cat_to_num, add_lags, add_mean_encoding, add_sold_mean, fill_df"
   ]
  },
  {
   "cell_type": "code",
   "execution_count": 31,
   "id": "ee88294e",
   "metadata": {},
   "outputs": [],
   "source": [
    "def load_eval_data():\n",
    "    calendar_df = pd.read_csv(\"data/calendar.csv\")\n",
    "    prices_df = pd.read_csv('data/sell_prices.csv')\n",
    "    sales_df = pd.read_csv('data/sales_train_evaluation.csv')\n",
    "    return sales_df, calendar_df, prices_df"
   ]
  },
  {
   "cell_type": "code",
   "execution_count": 32,
   "id": "31a9f773",
   "metadata": {},
   "outputs": [],
   "source": [
    "def prepare_dataframe(sales_df, calendar_df, prices_df):\n",
    "    \"\"\"Runs the full data pipeline.\"\"\"\n",
    "    \n",
    "    print(\"--- Merging and Melting Data ---\")\n",
    "    data_df = merge_and_melt(sales_df, calendar_df, prices_df)\n",
    "    \n",
    "    print(\"--- Filling Nulls and Converting Categories ---\")\n",
    "    data_df = fill_sell(data_df)\n",
    "    data_df = fill_event(data_df)\n",
    "    data_df = cat_to_num(data_df)\n",
    "    \n",
    "    print(\"--- Creating Features ---\")\n",
    "    lags = [1, 2, 3, 7, 15, 30]\n",
    "    data_df = add_lags(data_df, lags)\n",
    "    data_df = add_mean_encoding(data_df)\n",
    "    data_df = add_sold_mean(data_df)\n",
    "    \n",
    "    print(\"--- Finalizing Dataset ---\")\n",
    "    data_df = fill_df(data_df)\n",
    "    \n",
    "    return data_df"
   ]
  },
  {
   "cell_type": "code",
   "execution_count": 33,
   "id": "9d68a20e",
   "metadata": {},
   "outputs": [],
   "source": [
    "sales_df, calendar_df, prices_df = load_eval_data()"
   ]
  },
  {
   "cell_type": "code",
   "execution_count": 34,
   "id": "11747eda",
   "metadata": {},
   "outputs": [
    {
     "name": "stdout",
     "output_type": "stream",
     "text": [
      "--- Merging and Melting Data ---\n",
      "--- Filling Nulls and Converting Categories ---\n",
      "--- Creating Features ---\n",
      "--- Finalizing Dataset ---\n"
     ]
    }
   ],
   "source": [
    "data = prepare_dataframe(sales_df, calendar_df, prices_df)"
   ]
  },
  {
   "cell_type": "code",
   "execution_count": 36,
   "id": "09b5b4eb",
   "metadata": {},
   "outputs": [
    {
     "name": "stdout",
     "output_type": "stream",
     "text": [
      "--- Generating Final Submission ---\n",
      "----- Training Final Model for Store: CA_1 -----\n",
      "prediction is complete\n",
      "the root mean squared error is 0.49626114630689466\n",
      "----- Training Final Model for Store: CA_2 -----\n",
      "prediction is complete\n",
      "the root mean squared error is 0.45254593798320686\n",
      "----- Training Final Model for Store: CA_3 -----\n",
      "prediction is complete\n",
      "the root mean squared error is 0.5655504015662993\n",
      "----- Training Final Model for Store: CA_4 -----\n",
      "prediction is complete\n",
      "the root mean squared error is 0.27724286947966414\n",
      "----- Training Final Model for Store: TX_1 -----\n",
      "prediction is complete\n",
      "the root mean squared error is 0.4562579285676845\n",
      "----- Training Final Model for Store: TX_2 -----\n",
      "prediction is complete\n",
      "the root mean squared error is 0.48447286584276317\n",
      "----- Training Final Model for Store: TX_3 -----\n",
      "prediction is complete\n",
      "the root mean squared error is 0.5354967619725806\n",
      "----- Training Final Model for Store: WI_1 -----\n",
      "prediction is complete\n",
      "the root mean squared error is 0.3472774141790868\n",
      "----- Training Final Model for Store: WI_2 -----\n",
      "prediction is complete\n",
      "the root mean squared error is 0.9858317866065482\n",
      "----- Training Final Model for Store: WI_3 -----\n",
      "prediction is complete\n",
      "the root mean squared error is 0.5494883104890409\n",
      "Final submission file saved as: submission/lgb_submission.csv\n"
     ]
    }
   ],
   "source": [
    "d_store_id = {0: 'CA_1', 1: 'CA_2', 2: 'CA_3', 3: 'CA_4', 4: 'TX_1', 5: 'TX_2', 6: 'TX_3', 7: 'WI_1', 8: 'WI_2', 9: 'WI_3'}\n",
    "\"\"\"\n",
    "Trains final models on the full dataset and generates a submission file.\n",
    "\"\"\"\n",
    "print(\"--- Generating Final Submission ---\")\n",
    "\n",
    "stores = data.store_id.unique().tolist()\n",
    "store_dfs = []\n",
    "forecast_days = 28\n",
    "for store in stores:\n",
    "    df = data[data['store_id'] == store]\n",
    "    \n",
    "    # Load the best parameters from the optimization phase\n",
    "    best_params = joblib.load(f'lgbmodels/best_params_{d_store_id[store]}.pkl')\n",
    "    \n",
    "    # Train on the full dataset up to d_1913\n",
    "    X_train_full = df[df['d'] < 1914].drop('sold', axis=1)\n",
    "    y_train_full = df[df['d'] < 1914]['sold']\n",
    "    \n",
    "    # Create a final model instance with the best parameters\n",
    "    final_model = LGBMRegressor(\n",
    "        **best_params,\n",
    "        n_estimators=1000,\n",
    "        verbose=-1,\n",
    "        n_jobs=-1,\n",
    "        random_state=42\n",
    "    )\n",
    "    print(f'----- Training Final Model for Store: {d_store_id[store]} -----')\n",
    "    final_model.fit(X_train_full, y_train_full)\n",
    "    X_test = df[df['d'] >= 1914].drop('sold', axis=1)\n",
    "    y_test = df[df['d'] >= 1914]['sold']\n",
    "    \n",
    "    test_predictions = final_model.predict(X_test)\n",
    "    print('prediction is complete')\n",
    "    \n",
    "    # Post-process predictions\n",
    "    test_predictions = np.maximum(0, test_predictions)\n",
    "    test_predictions = np.round(test_predictions).astype(int)\n",
    "\n",
    "    # print(f'the real output is {y_test}\\n\\n')\n",
    "    # print(f'and the predicted output is {test_predictions}\\n')\n",
    "    rmse = root_mean_squared_error(y_test,test_predictions)\n",
    "    print(f'the root mean squared error is {rmse}')\n",
    "    \n",
    "\n",
    "    \n",
    "    # Prepare store submission dataframe\n",
    "    num_products = df['id'].nunique()\n",
    "    test_predictions = test_predictions.reshape(num_products, forecast_days, order = 'F')\n",
    "    \n",
    "    # Create store submission dataframe\n",
    "    store_df = pd.DataFrame({'id': sales_df[sales_df['store_id'] == d_store_id[store]]['id'].values})\n",
    "    \n",
    "    for i in range(forecast_days):\n",
    "        store_df[f'F{i+1}'] = test_predictions[:, i]\n",
    "    \n",
    "    store_dfs.append(store_df)\n",
    "\n",
    "# Combine all stores vertically\n",
    "lgb_submission_df = pd.concat(store_dfs, ignore_index=True)\n",
    "\n",
    "# Save final submission file\n",
    "final_path = 'submission/lgb_submission.csv'\n",
    "lgb_submission_df.to_csv(final_path, index=False)\n",
    "print(f\"Final submission file saved as: {final_path}\")"
   ]
  },
  {
   "cell_type": "code",
   "execution_count": 39,
   "id": "954094a3",
   "metadata": {},
   "outputs": [
    {
     "name": "stdout",
     "output_type": "stream",
     "text": [
      "Cleaned up memory.\n"
     ]
    }
   ],
   "source": [
    "del data\n",
    "gc.collect()\n",
    "print(\"Cleaned up memory.\")"
   ]
  }
 ],
 "metadata": {
  "kernelspec": {
   "display_name": "sellenv",
   "language": "python",
   "name": "python3"
  },
  "language_info": {
   "codemirror_mode": {
    "name": "ipython",
    "version": 3
   },
   "file_extension": ".py",
   "mimetype": "text/x-python",
   "name": "python",
   "nbconvert_exporter": "python",
   "pygments_lexer": "ipython3",
   "version": "3.12.7"
  }
 },
 "nbformat": 4,
 "nbformat_minor": 5
}
