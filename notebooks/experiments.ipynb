{
 "cells": [
  {
   "cell_type": "code",
   "execution_count": 16,
   "id": "1880f08c",
   "metadata": {},
   "outputs": [],
   "source": [
    "import os\n",
    "import numpy as np\n",
    "import pandas as pd\n",
    "import lightgbm as lgb\n",
    "from lightgbm import LGBMRegressor\n",
    "from sklearn.metrics import mean_squared_error\n",
    "import warnings \n",
    "import optuna\n",
    "import joblib\n",
    "\n",
    "\n",
    "warnings.filterwarnings('ignore')"
   ]
  },
  {
   "cell_type": "code",
   "execution_count": 5,
   "id": "76b18e5c",
   "metadata": {},
   "outputs": [],
   "source": [
    "os.chdir(\"c://Users//divya//desktop//TCS_TASK-1\")"
   ]
  },
  {
   "cell_type": "code",
   "execution_count": 7,
   "id": "f6ecf1c6",
   "metadata": {},
   "outputs": [],
   "source": [
    "from src.pipeline import merge_and_melt, fill_sell, fill_event, cat_to_num, add_lags, add_mean_encoding, add_sold_mean, fill_df\n",
    "from src.utils import load_data"
   ]
  },
  {
   "cell_type": "code",
   "execution_count": 8,
   "id": "da050277",
   "metadata": {},
   "outputs": [],
   "source": [
    "def prepare_dataframe():\n",
    "    \"\"\"Runs the full data pipeline.\"\"\"\n",
    "    sales_df, calendar_df, prices_df, _ = load_data()\n",
    "    \n",
    "    print(\"--- Merging and Melting Data ---\")\n",
    "    data_df = merge_and_melt(sales_df, calendar_df, prices_df)\n",
    "    \n",
    "    print(\"--- Filling Nulls and Converting Categories ---\")\n",
    "    data_df = fill_sell(data_df)\n",
    "    data_df = fill_event(data_df)\n",
    "    data_df = cat_to_num(data_df)\n",
    "    \n",
    "    print(\"--- Creating Features ---\")\n",
    "    lags = [1, 2, 3, 7, 15, 30]\n",
    "    data_df = add_lags(data_df, lags)\n",
    "    data_df = add_mean_encoding(data_df)\n",
    "    data_df = add_sold_mean(data_df)\n",
    "    \n",
    "    print(\"--- Finalizing Dataset ---\")\n",
    "    data_df = fill_df(data_df)\n",
    "    \n",
    "    return data_df"
   ]
  },
  {
   "cell_type": "code",
   "execution_count": 9,
   "id": "5c6cc1ee",
   "metadata": {},
   "outputs": [
    {
     "name": "stdout",
     "output_type": "stream",
     "text": [
      "--- Merging and Melting Data ---\n",
      "--- Filling Nulls and Converting Categories ---\n"
     ]
    },
    {
     "name": "stderr",
     "output_type": "stream",
     "text": [
      "c:\\Users\\divya\\desktop\\TCS_TASK-1\\src\\pipeline.py:22: FutureWarning: The default of observed=False is deprecated and will be changed to True in a future version of pandas. Pass observed=False to retain current behavior or observed=True to adopt the future default and silence this warning.\n",
      "  df['sell_price'] = df.groupby(['store_id', 'item_id'])['sell_price'].bfill()\n"
     ]
    },
    {
     "name": "stdout",
     "output_type": "stream",
     "text": [
      "--- Creating Features ---\n",
      "--- Finalizing Dataset ---\n"
     ]
    }
   ],
   "source": [
    "data = prepare_dataframe()"
   ]
  },
  {
   "cell_type": "code",
   "execution_count": 14,
   "id": "b295a23c",
   "metadata": {},
   "outputs": [
    {
     "data": {
      "text/html": [
       "<div>\n",
       "<style scoped>\n",
       "    .dataframe tbody tr th:only-of-type {\n",
       "        vertical-align: middle;\n",
       "    }\n",
       "\n",
       "    .dataframe tbody tr th {\n",
       "        vertical-align: top;\n",
       "    }\n",
       "\n",
       "    .dataframe thead th {\n",
       "        text-align: right;\n",
       "    }\n",
       "</style>\n",
       "<table border=\"1\" class=\"dataframe\">\n",
       "  <thead>\n",
       "    <tr style=\"text-align: right;\">\n",
       "      <th></th>\n",
       "      <th>id</th>\n",
       "      <th>item_id</th>\n",
       "      <th>dept_id</th>\n",
       "      <th>cat_id</th>\n",
       "      <th>store_id</th>\n",
       "      <th>state_id</th>\n",
       "      <th>d</th>\n",
       "      <th>sold</th>\n",
       "      <th>wm_yr_wk</th>\n",
       "      <th>weekday</th>\n",
       "      <th>...</th>\n",
       "      <th>cat_dept_sold_avg</th>\n",
       "      <th>store_item_sold_avg</th>\n",
       "      <th>cat_item_sold_avg</th>\n",
       "      <th>dept_item_sold_avg</th>\n",
       "      <th>state_store_sold_avg</th>\n",
       "      <th>state_store_cat_sold_avg</th>\n",
       "      <th>store_cat_dept_sold_avg</th>\n",
       "      <th>rolling_sold_mean</th>\n",
       "      <th>expanding_sold_mean</th>\n",
       "      <th>selling_trend</th>\n",
       "    </tr>\n",
       "  </thead>\n",
       "  <tbody>\n",
       "    <tr>\n",
       "      <th>0</th>\n",
       "      <td>14370</td>\n",
       "      <td>1437</td>\n",
       "      <td>3</td>\n",
       "      <td>1</td>\n",
       "      <td>0</td>\n",
       "      <td>0</td>\n",
       "      <td>31</td>\n",
       "      <td>0</td>\n",
       "      <td>11105</td>\n",
       "      <td>1</td>\n",
       "      <td>...</td>\n",
       "      <td>0.703125</td>\n",
       "      <td>0.313721</td>\n",
       "      <td>0.213989</td>\n",
       "      <td>0.213989</td>\n",
       "      <td>1.320312</td>\n",
       "      <td>0.811035</td>\n",
       "      <td>1.032227</td>\n",
       "      <td>0.0</td>\n",
       "      <td>0.0</td>\n",
       "      <td>-0.313721</td>\n",
       "    </tr>\n",
       "    <tr>\n",
       "      <th>1</th>\n",
       "      <td>14380</td>\n",
       "      <td>1438</td>\n",
       "      <td>3</td>\n",
       "      <td>1</td>\n",
       "      <td>0</td>\n",
       "      <td>0</td>\n",
       "      <td>31</td>\n",
       "      <td>0</td>\n",
       "      <td>11105</td>\n",
       "      <td>1</td>\n",
       "      <td>...</td>\n",
       "      <td>0.703125</td>\n",
       "      <td>0.257812</td>\n",
       "      <td>0.264404</td>\n",
       "      <td>0.264404</td>\n",
       "      <td>1.320312</td>\n",
       "      <td>0.811035</td>\n",
       "      <td>1.032227</td>\n",
       "      <td>0.0</td>\n",
       "      <td>0.0</td>\n",
       "      <td>-0.257812</td>\n",
       "    </tr>\n",
       "    <tr>\n",
       "      <th>2</th>\n",
       "      <td>14390</td>\n",
       "      <td>1439</td>\n",
       "      <td>3</td>\n",
       "      <td>1</td>\n",
       "      <td>0</td>\n",
       "      <td>0</td>\n",
       "      <td>31</td>\n",
       "      <td>0</td>\n",
       "      <td>11105</td>\n",
       "      <td>1</td>\n",
       "      <td>...</td>\n",
       "      <td>0.703125</td>\n",
       "      <td>0.150513</td>\n",
       "      <td>0.075012</td>\n",
       "      <td>0.075012</td>\n",
       "      <td>1.320312</td>\n",
       "      <td>0.811035</td>\n",
       "      <td>1.032227</td>\n",
       "      <td>0.0</td>\n",
       "      <td>0.0</td>\n",
       "      <td>-0.150513</td>\n",
       "    </tr>\n",
       "    <tr>\n",
       "      <th>3</th>\n",
       "      <td>14400</td>\n",
       "      <td>1440</td>\n",
       "      <td>3</td>\n",
       "      <td>1</td>\n",
       "      <td>0</td>\n",
       "      <td>0</td>\n",
       "      <td>31</td>\n",
       "      <td>0</td>\n",
       "      <td>11105</td>\n",
       "      <td>1</td>\n",
       "      <td>...</td>\n",
       "      <td>0.703125</td>\n",
       "      <td>1.718750</td>\n",
       "      <td>2.046875</td>\n",
       "      <td>2.046875</td>\n",
       "      <td>1.320312</td>\n",
       "      <td>0.811035</td>\n",
       "      <td>1.032227</td>\n",
       "      <td>0.0</td>\n",
       "      <td>0.0</td>\n",
       "      <td>-1.718750</td>\n",
       "    </tr>\n",
       "    <tr>\n",
       "      <th>4</th>\n",
       "      <td>14410</td>\n",
       "      <td>1441</td>\n",
       "      <td>3</td>\n",
       "      <td>1</td>\n",
       "      <td>0</td>\n",
       "      <td>0</td>\n",
       "      <td>31</td>\n",
       "      <td>0</td>\n",
       "      <td>11105</td>\n",
       "      <td>1</td>\n",
       "      <td>...</td>\n",
       "      <td>0.703125</td>\n",
       "      <td>0.966309</td>\n",
       "      <td>0.764160</td>\n",
       "      <td>0.764160</td>\n",
       "      <td>1.320312</td>\n",
       "      <td>0.811035</td>\n",
       "      <td>1.032227</td>\n",
       "      <td>0.0</td>\n",
       "      <td>0.0</td>\n",
       "      <td>-0.966309</td>\n",
       "    </tr>\n",
       "  </tbody>\n",
       "</table>\n",
       "<p>5 rows × 42 columns</p>\n",
       "</div>"
      ],
      "text/plain": [
       "      id  item_id  dept_id  cat_id  store_id  state_id   d  sold  wm_yr_wk  \\\n",
       "0  14370     1437        3       1         0         0  31     0     11105   \n",
       "1  14380     1438        3       1         0         0  31     0     11105   \n",
       "2  14390     1439        3       1         0         0  31     0     11105   \n",
       "3  14400     1440        3       1         0         0  31     0     11105   \n",
       "4  14410     1441        3       1         0         0  31     0     11105   \n",
       "\n",
       "   weekday  ...  cat_dept_sold_avg  store_item_sold_avg  cat_item_sold_avg  \\\n",
       "0        1  ...           0.703125             0.313721           0.213989   \n",
       "1        1  ...           0.703125             0.257812           0.264404   \n",
       "2        1  ...           0.703125             0.150513           0.075012   \n",
       "3        1  ...           0.703125             1.718750           2.046875   \n",
       "4        1  ...           0.703125             0.966309           0.764160   \n",
       "\n",
       "   dept_item_sold_avg  state_store_sold_avg  state_store_cat_sold_avg  \\\n",
       "0            0.213989              1.320312                  0.811035   \n",
       "1            0.264404              1.320312                  0.811035   \n",
       "2            0.075012              1.320312                  0.811035   \n",
       "3            2.046875              1.320312                  0.811035   \n",
       "4            0.764160              1.320312                  0.811035   \n",
       "\n",
       "   store_cat_dept_sold_avg  rolling_sold_mean  expanding_sold_mean  \\\n",
       "0                 1.032227                0.0                  0.0   \n",
       "1                 1.032227                0.0                  0.0   \n",
       "2                 1.032227                0.0                  0.0   \n",
       "3                 1.032227                0.0                  0.0   \n",
       "4                 1.032227                0.0                  0.0   \n",
       "\n",
       "   selling_trend  \n",
       "0      -0.313721  \n",
       "1      -0.257812  \n",
       "2      -0.150513  \n",
       "3      -1.718750  \n",
       "4      -0.966309  \n",
       "\n",
       "[5 rows x 42 columns]"
      ]
     },
     "execution_count": 14,
     "metadata": {},
     "output_type": "execute_result"
    }
   ],
   "source": [
    "data.head()"
   ]
  },
  {
   "cell_type": "code",
   "execution_count": 11,
   "id": "a7a8092b",
   "metadata": {},
   "outputs": [
    {
     "name": "stdout",
     "output_type": "stream",
     "text": [
      "<class 'pandas.core.frame.DataFrame'>\n",
      "RangeIndex: 57412670 entries, 0 to 57412669\n",
      "Data columns (total 42 columns):\n",
      " #   Column                    Dtype  \n",
      "---  ------                    -----  \n",
      " 0   id                        int16  \n",
      " 1   item_id                   int16  \n",
      " 2   dept_id                   int8   \n",
      " 3   cat_id                    int8   \n",
      " 4   store_id                  int8   \n",
      " 5   state_id                  int8   \n",
      " 6   d                         int16  \n",
      " 7   sold                      int16  \n",
      " 8   wm_yr_wk                  int16  \n",
      " 9   weekday                   int8   \n",
      " 10  wday                      int8   \n",
      " 11  month                     int8   \n",
      " 12  year                      int16  \n",
      " 13  event_name_1              int8   \n",
      " 14  event_type_1              int8   \n",
      " 15  event_name_2              int8   \n",
      " 16  event_type_2              int8   \n",
      " 17  snap_CA                   int8   \n",
      " 18  snap_TX                   int8   \n",
      " 19  snap_WI                   int8   \n",
      " 20  sell_price                float16\n",
      " 21  sold_lag_1                float16\n",
      " 22  sold_lag_2                float16\n",
      " 23  sold_lag_3                float16\n",
      " 24  sold_lag_7                float16\n",
      " 25  sold_lag_15               float16\n",
      " 26  sold_lag_30               float16\n",
      " 27  item_sold_avg             float16\n",
      " 28  state_sold_avg            float16\n",
      " 29  store_sold_avg            float16\n",
      " 30  cat_sold_avg              float16\n",
      " 31  dept_sold_avg             float16\n",
      " 32  cat_dept_sold_avg         float16\n",
      " 33  store_item_sold_avg       float16\n",
      " 34  cat_item_sold_avg         float16\n",
      " 35  dept_item_sold_avg        float16\n",
      " 36  state_store_sold_avg      float16\n",
      " 37  state_store_cat_sold_avg  float16\n",
      " 38  store_cat_dept_sold_avg   float16\n",
      " 39  rolling_sold_mean         float16\n",
      " 40  expanding_sold_mean       float16\n",
      " 41  selling_trend             float16\n",
      "dtypes: float16(22), int16(6), int8(14)\n",
      "memory usage: 3.7 GB\n"
     ]
    }
   ],
   "source": [
    "data.info()"
   ]
  },
  {
   "cell_type": "code",
   "execution_count": null,
   "id": "59afe8b4",
   "metadata": {},
   "outputs": [],
   "source": [
    "def optimize_and_evaluate_models(data):\n",
    "    \"\"\"\n",
    "    Trains and evaluates models for each store using a validation set.\n",
    "    This is for finding the best parameters and validating performance locally.\n",
    "    \"\"\"\n",
    "    print(\"--- Starting Local Evaluation Phase ---\")\n",
    "    \n",
    "    valid_indices = data[(data['d'] >= 1885) & (data['d'] < 1914)].index\n",
    "    valid_preds = pd.Series(index=valid_indices, dtype=float, name='validation_predictions')\n",
    "    \n",
    "    stores = data.store_id.unique().tolist()\n",
    "\n",
    "    for store in stores:\n",
    "        df = data[data['store_id'] == store]\n",
    "        \n",
    "        X_train, y_train = df[df['d'] < 1885].drop('sold', axis=1), df[df['d'] < 1885]['sold']\n",
    "        X_valid, y_valid = df[(df['d'] >= 1885) & (df['d'] < 1914)].drop('sold', axis=1), df[(df['d'] >= 1885) & (df['d'] < 1914)]['sold']\n",
    "        \n",
    "        model = LGBMRegressor(\n",
    "            n_estimators=1000,\n",
    "            learning_rate=0.1,\n",
    "            subsample=0.8,\n",
    "            colsample_bytree=0.8,\n",
    "            max_depth=8,\n",
    "            num_leaves=50,\n",
    "            min_child_weight=100,\n",
    "            verbose=-1\n",
    "        )\n",
    "        print(f'----- Optimizing for Store: {store} -----')\n",
    "        \n",
    "        model.fit(X_train, y_train, eval_set=[(X_valid, y_valid)],\n",
    "                  eval_metric='rmse',\n",
    "                  callbacks=[lgb.early_stopping(20)])\n",
    "        \n",
    "        valid_predictions = model.predict(X_valid)\n",
    "        rmse = np.sqrt(mean_squared_error(y_valid, valid_predictions))\n",
    "        print(f'Validation RMSE for {store}: {rmse:.4f}')\n",
    "        valid_preds.loc[X_valid.index] = valid_predictions\n",
    "\n",
    "    return valid_preds"
   ]
  },
  {
   "cell_type": "code",
   "execution_count": null,
   "id": "d4d2e8a8",
   "metadata": {},
   "outputs": [
    {
     "name": "stdout",
     "output_type": "stream",
     "text": [
      "--- Starting Local Evaluation Phase ---\n",
      "Created directory: lgbmodels\n"
     ]
    },
    {
     "name": "stderr",
     "output_type": "stream",
     "text": [
      "[I 2025-09-14 06:42:15,841] A new study created in memory with name: no-name-89d66e6d-1deb-4860-8e3f-e041eb7846cc\n"
     ]
    },
    {
     "name": "stdout",
     "output_type": "stream",
     "text": [
      "----- Optimizing for Store: CA_1 -----\n"
     ]
    },
    {
     "name": "stderr",
     "output_type": "stream",
     "text": [
      "Best trial: 0. Best value: 0.576765:  12%|█▎        | 1/8 [02:30<17:31, 150.14s/it]"
     ]
    },
    {
     "name": "stdout",
     "output_type": "stream",
     "text": [
      "[I 2025-09-14 06:44:45,984] Trial 0 finished with value: 0.5767646366174688 and parameters: {'learning_rate': 0.15289188828326689, 'subsample': 0.7809394060781171, 'colsample_bytree': 0.9153035969081716, 'max_depth': 7, 'num_leaves': 113, 'min_child_weight': 352}. Best is trial 0 with value: 0.5767646366174688.\n"
     ]
    },
    {
     "name": "stderr",
     "output_type": "stream",
     "text": [
      "Best trial: 0. Best value: 0.576765:  25%|██▌       | 2/8 [04:05<11:47, 117.99s/it]"
     ]
    },
    {
     "name": "stdout",
     "output_type": "stream",
     "text": [
      "[I 2025-09-14 06:46:21,477] Trial 1 finished with value: 1.0510011784670434 and parameters: {'learning_rate': 0.027389531605400134, 'subsample': 0.6166524390076144, 'colsample_bytree': 0.989691130332159, 'max_depth': 6, 'num_leaves': 41, 'min_child_weight': 97}. Best is trial 0 with value: 0.5767646366174688.\n"
     ]
    },
    {
     "name": "stderr",
     "output_type": "stream",
     "text": [
      "Best trial: 0. Best value: 0.576765:  38%|███▊      | 3/8 [05:22<08:15, 99.12s/it] "
     ]
    },
    {
     "name": "stdout",
     "output_type": "stream",
     "text": [
      "[I 2025-09-14 06:47:38,126] Trial 2 finished with value: 0.910888837168138 and parameters: {'learning_rate': 0.12261179626201286, 'subsample': 0.6291741348777763, 'colsample_bytree': 0.9738166969801783, 'max_depth': 9, 'num_leaves': 30, 'min_child_weight': 222}. Best is trial 0 with value: 0.5767646366174688.\n"
     ]
    },
    {
     "name": "stderr",
     "output_type": "stream",
     "text": [
      "Best trial: 0. Best value: 0.576765:  50%|█████     | 4/8 [09:43<10:51, 162.98s/it]"
     ]
    },
    {
     "name": "stdout",
     "output_type": "stream",
     "text": [
      "[I 2025-09-14 06:51:59,000] Trial 3 finished with value: 0.755991444062124 and parameters: {'learning_rate': 0.01619676234118079, 'subsample': 0.6045554031637469, 'colsample_bytree': 0.7974453020282861, 'max_depth': 9, 'num_leaves': 95, 'min_child_weight': 442}. Best is trial 0 with value: 0.5767646366174688.\n"
     ]
    },
    {
     "name": "stderr",
     "output_type": "stream",
     "text": [
      "Best trial: 4. Best value: 0.572573:  62%|██████▎   | 5/8 [12:19<08:01, 160.59s/it]"
     ]
    },
    {
     "name": "stdout",
     "output_type": "stream",
     "text": [
      "[I 2025-09-14 06:54:35,347] Trial 4 finished with value: 0.5725731979999131 and parameters: {'learning_rate': 0.19731126448534633, 'subsample': 0.737009463439827, 'colsample_bytree': 0.7377984341985427, 'max_depth': 8, 'num_leaves': 120, 'min_child_weight': 261}. Best is trial 4 with value: 0.5725731979999131.\n"
     ]
    },
    {
     "name": "stderr",
     "output_type": "stream",
     "text": [
      "Best trial: 4. Best value: 0.572573:  75%|███████▌  | 6/8 [15:45<05:52, 176.03s/it]"
     ]
    },
    {
     "name": "stdout",
     "output_type": "stream",
     "text": [
      "[I 2025-09-14 06:58:01,361] Trial 5 finished with value: 0.5881779884431483 and parameters: {'learning_rate': 0.11477922221644299, 'subsample': 0.9021095796060558, 'colsample_bytree': 0.628986116920261, 'max_depth': 8, 'num_leaves': 94, 'min_child_weight': 353}. Best is trial 4 with value: 0.5725731979999131.\n"
     ]
    },
    {
     "name": "stderr",
     "output_type": "stream",
     "text": [
      "Best trial: 4. Best value: 0.572573:  88%|████████▊ | 7/8 [18:07<02:45, 165.05s/it]"
     ]
    },
    {
     "name": "stdout",
     "output_type": "stream",
     "text": [
      "[I 2025-09-14 07:00:23,805] Trial 6 finished with value: 0.6654230906419046 and parameters: {'learning_rate': 0.1946837735053822, 'subsample': 0.816962633007784, 'colsample_bytree': 0.9366699938935945, 'max_depth': 7, 'num_leaves': 38, 'min_child_weight': 67}. Best is trial 4 with value: 0.5725731979999131.\n"
     ]
    },
    {
     "name": "stderr",
     "output_type": "stream",
     "text": [
      "Best trial: 4. Best value: 0.572573: 100%|██████████| 8/8 [22:05<00:00, 165.68s/it]\n"
     ]
    },
    {
     "name": "stdout",
     "output_type": "stream",
     "text": [
      "[I 2025-09-14 07:04:21,239] Trial 7 finished with value: 0.7840003510971495 and parameters: {'learning_rate': 0.02012035303047511, 'subsample': 0.8744397713254273, 'colsample_bytree': 0.8433878022557678, 'max_depth': 11, 'num_leaves': 62, 'min_child_weight': 277}. Best is trial 4 with value: 0.5725731979999131.\n",
      "Tuning finished. Best RMSE for CA_1: 0.5726\n"
     ]
    },
    {
     "name": "stderr",
     "output_type": "stream",
     "text": [
      "[I 2025-09-14 07:04:28,373] A new study created in memory with name: no-name-bfeb877c-c894-4086-8b4f-7effca78bf7b\n"
     ]
    },
    {
     "name": "stdout",
     "output_type": "stream",
     "text": [
      "----- Optimizing for Store: CA_2 -----\n"
     ]
    },
    {
     "name": "stderr",
     "output_type": "stream",
     "text": [
      "Best trial: 0. Best value: 0.630905:  12%|█▎        | 1/8 [03:42<25:59, 222.78s/it]"
     ]
    },
    {
     "name": "stdout",
     "output_type": "stream",
     "text": [
      "[I 2025-09-14 07:08:11,148] Trial 0 finished with value: 0.6309054578944718 and parameters: {'learning_rate': 0.07966279277071171, 'subsample': 0.6849922184411942, 'colsample_bytree': 0.630637882525831, 'max_depth': 10, 'num_leaves': 37, 'min_child_weight': 451}. Best is trial 0 with value: 0.6309054578944718.\n"
     ]
    },
    {
     "name": "stderr",
     "output_type": "stream",
     "text": [
      "Best trial: 0. Best value: 0.630905:  25%|██▌       | 2/8 [04:47<12:57, 129.57s/it]"
     ]
    },
    {
     "name": "stdout",
     "output_type": "stream",
     "text": [
      "[I 2025-09-14 07:09:15,474] Trial 1 finished with value: 0.7762950371957922 and parameters: {'learning_rate': 0.18246202954764904, 'subsample': 0.7617748312179685, 'colsample_bytree': 0.9887652395510815, 'max_depth': 11, 'num_leaves': 68, 'min_child_weight': 94}. Best is trial 0 with value: 0.6309054578944718.\n"
     ]
    },
    {
     "name": "stderr",
     "output_type": "stream",
     "text": [
      "Best trial: 2. Best value: 0.552832:  38%|███▊      | 3/8 [07:57<13:07, 157.42s/it]"
     ]
    },
    {
     "name": "stdout",
     "output_type": "stream",
     "text": [
      "[I 2025-09-14 07:12:26,027] Trial 2 finished with value: 0.5528320863483436 and parameters: {'learning_rate': 0.060685085563635874, 'subsample': 0.9821007297107378, 'colsample_bytree': 0.8904731888225359, 'max_depth': 6, 'num_leaves': 150, 'min_child_weight': 413}. Best is trial 2 with value: 0.5528320863483436.\n"
     ]
    },
    {
     "name": "stderr",
     "output_type": "stream",
     "text": [
      "Best trial: 3. Best value: 0.517157:  50%|█████     | 4/8 [11:17<11:37, 174.36s/it]"
     ]
    },
    {
     "name": "stdout",
     "output_type": "stream",
     "text": [
      "[I 2025-09-14 07:15:46,352] Trial 3 finished with value: 0.5171566907190124 and parameters: {'learning_rate': 0.13068789535412584, 'subsample': 0.9082330597252928, 'colsample_bytree': 0.9595271842283979, 'max_depth': 7, 'num_leaves': 132, 'min_child_weight': 76}. Best is trial 3 with value: 0.5171566907190124.\n"
     ]
    },
    {
     "name": "stderr",
     "output_type": "stream",
     "text": [
      "Best trial: 3. Best value: 0.517157:  62%|██████▎   | 5/8 [12:59<07:24, 148.15s/it]"
     ]
    },
    {
     "name": "stdout",
     "output_type": "stream",
     "text": [
      "[I 2025-09-14 07:17:28,022] Trial 4 finished with value: 0.6780991037771533 and parameters: {'learning_rate': 0.11467376884452347, 'subsample': 0.6617575472903998, 'colsample_bytree': 0.9712401922051765, 'max_depth': 9, 'num_leaves': 47, 'min_child_weight': 498}. Best is trial 3 with value: 0.5171566907190124.\n"
     ]
    },
    {
     "name": "stderr",
     "output_type": "stream",
     "text": [
      "Best trial: 3. Best value: 0.517157:  75%|███████▌  | 6/8 [16:25<05:35, 167.84s/it]"
     ]
    },
    {
     "name": "stdout",
     "output_type": "stream",
     "text": [
      "[I 2025-09-14 07:20:54,087] Trial 5 finished with value: 0.5920996137112193 and parameters: {'learning_rate': 0.05482046747784004, 'subsample': 0.6067790609579305, 'colsample_bytree': 0.8912939116277494, 'max_depth': 8, 'num_leaves': 83, 'min_child_weight': 387}. Best is trial 3 with value: 0.5171566907190124.\n"
     ]
    },
    {
     "name": "stderr",
     "output_type": "stream",
     "text": [
      "Best trial: 3. Best value: 0.517157:  88%|████████▊ | 7/8 [19:13<02:47, 167.66s/it]"
     ]
    },
    {
     "name": "stdout",
     "output_type": "stream",
     "text": [
      "[I 2025-09-14 07:23:41,385] Trial 6 finished with value: 0.5523272446430576 and parameters: {'learning_rate': 0.16156916627701193, 'subsample': 0.6190903476934101, 'colsample_bytree': 0.8755369833980851, 'max_depth': 11, 'num_leaves': 67, 'min_child_weight': 198}. Best is trial 3 with value: 0.5171566907190124.\n"
     ]
    },
    {
     "name": "stderr",
     "output_type": "stream",
     "text": [
      "Best trial: 3. Best value: 0.517157: 100%|██████████| 8/8 [22:20<00:00, 167.53s/it]\n"
     ]
    },
    {
     "name": "stdout",
     "output_type": "stream",
     "text": [
      "[I 2025-09-14 07:26:48,626] Trial 7 finished with value: 0.66132279766361 and parameters: {'learning_rate': 0.025544168598592782, 'subsample': 0.748899082565403, 'colsample_bytree': 0.7509484562534046, 'max_depth': 5, 'num_leaves': 149, 'min_child_weight': 67}. Best is trial 3 with value: 0.5171566907190124.\n",
      "Tuning finished. Best RMSE for CA_2: 0.5172\n"
     ]
    },
    {
     "name": "stderr",
     "output_type": "stream",
     "text": [
      "[I 2025-09-14 07:26:55,584] A new study created in memory with name: no-name-a0b4f44a-3af9-45a3-8e36-ee839a44063b\n"
     ]
    },
    {
     "name": "stdout",
     "output_type": "stream",
     "text": [
      "----- Optimizing for Store: CA_3 -----\n"
     ]
    },
    {
     "name": "stderr",
     "output_type": "stream",
     "text": [
      "Best trial: 0. Best value: 0.759261:  12%|█▎        | 1/8 [02:55<20:31, 175.92s/it]"
     ]
    },
    {
     "name": "stdout",
     "output_type": "stream",
     "text": [
      "[I 2025-09-14 07:29:51,500] Trial 0 finished with value: 0.7592611234678673 and parameters: {'learning_rate': 0.1717157064234506, 'subsample': 0.65658792130586, 'colsample_bytree': 0.7445946936958775, 'max_depth': 9, 'num_leaves': 119, 'min_child_weight': 385}. Best is trial 0 with value: 0.7592611234678673.\n"
     ]
    },
    {
     "name": "stderr",
     "output_type": "stream",
     "text": [
      "Best trial: 0. Best value: 0.759261:  25%|██▌       | 2/8 [05:59<18:02, 180.38s/it]"
     ]
    },
    {
     "name": "stdout",
     "output_type": "stream",
     "text": [
      "[I 2025-09-14 07:32:54,996] Trial 1 finished with value: 1.8386814541304175 and parameters: {'learning_rate': 0.01663199554134934, 'subsample': 0.8206996729152669, 'colsample_bytree': 0.8076471922492862, 'max_depth': 12, 'num_leaves': 31, 'min_child_weight': 388}. Best is trial 0 with value: 0.7592611234678673.\n"
     ]
    },
    {
     "name": "stderr",
     "output_type": "stream",
     "text": [
      "Best trial: 0. Best value: 0.759261:  38%|███▊      | 3/8 [09:44<16:43, 200.61s/it]"
     ]
    },
    {
     "name": "stdout",
     "output_type": "stream",
     "text": [
      "[I 2025-09-14 07:36:39,678] Trial 2 finished with value: 0.920883212937626 and parameters: {'learning_rate': 0.053390840684939565, 'subsample': 0.6496239222111339, 'colsample_bytree': 0.8951846361713955, 'max_depth': 12, 'num_leaves': 77, 'min_child_weight': 244}. Best is trial 0 with value: 0.7592611234678673.\n"
     ]
    },
    {
     "name": "stderr",
     "output_type": "stream",
     "text": [
      "Best trial: 0. Best value: 0.759261:  50%|█████     | 4/8 [12:54<13:05, 196.48s/it]"
     ]
    },
    {
     "name": "stdout",
     "output_type": "stream",
     "text": [
      "[I 2025-09-14 07:39:49,829] Trial 3 finished with value: 0.8420212496057508 and parameters: {'learning_rate': 0.16117074897372377, 'subsample': 0.7999880429405195, 'colsample_bytree': 0.63455340527872, 'max_depth': 6, 'num_leaves': 117, 'min_child_weight': 467}. Best is trial 0 with value: 0.7592611234678673.\n"
     ]
    },
    {
     "name": "stderr",
     "output_type": "stream",
     "text": [
      "Best trial: 0. Best value: 0.759261:  62%|██████▎   | 5/8 [14:58<08:31, 170.49s/it]"
     ]
    },
    {
     "name": "stdout",
     "output_type": "stream",
     "text": [
      "[I 2025-09-14 07:41:54,229] Trial 4 finished with value: 0.77797828808621 and parameters: {'learning_rate': 0.17090583579476432, 'subsample': 0.812855639727411, 'colsample_bytree': 0.8725702276678928, 'max_depth': 9, 'num_leaves': 115, 'min_child_weight': 424}. Best is trial 0 with value: 0.7592611234678673.\n"
     ]
    },
    {
     "name": "stderr",
     "output_type": "stream",
     "text": [
      "Best trial: 5. Best value: 0.695034:  75%|███████▌  | 6/8 [18:02<05:50, 175.06s/it]"
     ]
    },
    {
     "name": "stdout",
     "output_type": "stream",
     "text": [
      "[I 2025-09-14 07:44:58,175] Trial 5 finished with value: 0.6950341704104102 and parameters: {'learning_rate': 0.19165903670258302, 'subsample': 0.813190342503409, 'colsample_bytree': 0.6506548904306014, 'max_depth': 10, 'num_leaves': 114, 'min_child_weight': 104}. Best is trial 5 with value: 0.6950341704104102.\n"
     ]
    },
    {
     "name": "stderr",
     "output_type": "stream",
     "text": [
      "Best trial: 5. Best value: 0.695034:  88%|████████▊ | 7/8 [20:32<02:46, 166.76s/it]"
     ]
    },
    {
     "name": "stdout",
     "output_type": "stream",
     "text": [
      "[I 2025-09-14 07:47:27,827] Trial 6 finished with value: 0.8611579833340183 and parameters: {'learning_rate': 0.15169768638031947, 'subsample': 0.6493562118275307, 'colsample_bytree': 0.6977822271716477, 'max_depth': 11, 'num_leaves': 36, 'min_child_weight': 336}. Best is trial 5 with value: 0.6950341704104102.\n"
     ]
    },
    {
     "name": "stderr",
     "output_type": "stream",
     "text": [
      "Best trial: 5. Best value: 0.695034: 100%|██████████| 8/8 [23:50<00:00, 178.82s/it]\n"
     ]
    },
    {
     "name": "stdout",
     "output_type": "stream",
     "text": [
      "[I 2025-09-14 07:50:46,144] Trial 7 finished with value: 1.8886201105880462 and parameters: {'learning_rate': 0.013567784100770608, 'subsample': 0.7431961816821121, 'colsample_bytree': 0.8664534022847609, 'max_depth': 5, 'num_leaves': 124, 'min_child_weight': 262}. Best is trial 5 with value: 0.6950341704104102.\n",
      "Tuning finished. Best RMSE for CA_3: 0.6950\n"
     ]
    },
    {
     "name": "stderr",
     "output_type": "stream",
     "text": [
      "[I 2025-09-14 07:50:51,530] A new study created in memory with name: no-name-ff79ad25-7dfd-482a-91f1-300fe41934ee\n"
     ]
    },
    {
     "name": "stdout",
     "output_type": "stream",
     "text": [
      "----- Optimizing for Store: CA_4 -----\n"
     ]
    },
    {
     "name": "stderr",
     "output_type": "stream",
     "text": [
      "Best trial: 0. Best value: 0.360443:  12%|█▎        | 1/8 [03:04<21:33, 184.84s/it]"
     ]
    },
    {
     "name": "stdout",
     "output_type": "stream",
     "text": [
      "[I 2025-09-14 07:53:56,363] Trial 0 finished with value: 0.3604430452018169 and parameters: {'learning_rate': 0.04351454750630564, 'subsample': 0.7233469764471193, 'colsample_bytree': 0.7755713948314881, 'max_depth': 12, 'num_leaves': 135, 'min_child_weight': 139}. Best is trial 0 with value: 0.3604430452018169.\n"
     ]
    },
    {
     "name": "stderr",
     "output_type": "stream",
     "text": [
      "Best trial: 1. Best value: 0.32994:  25%|██▌       | 2/8 [06:21<19:11, 191.92s/it] "
     ]
    },
    {
     "name": "stdout",
     "output_type": "stream",
     "text": [
      "[I 2025-09-14 07:57:13,235] Trial 1 finished with value: 0.329939723682513 and parameters: {'learning_rate': 0.1253739477031664, 'subsample': 0.9694277078786969, 'colsample_bytree': 0.613970061478159, 'max_depth': 5, 'num_leaves': 73, 'min_child_weight': 173}. Best is trial 1 with value: 0.329939723682513.\n"
     ]
    },
    {
     "name": "stderr",
     "output_type": "stream",
     "text": [
      "Best trial: 1. Best value: 0.32994:  38%|███▊      | 3/8 [07:57<12:19, 147.92s/it]"
     ]
    },
    {
     "name": "stdout",
     "output_type": "stream",
     "text": [
      "[I 2025-09-14 07:58:48,800] Trial 2 finished with value: 0.5147366762760786 and parameters: {'learning_rate': 0.04144433705291877, 'subsample': 0.7656844008315462, 'colsample_bytree': 0.9138180802828149, 'max_depth': 10, 'num_leaves': 30, 'min_child_weight': 391}. Best is trial 1 with value: 0.329939723682513.\n"
     ]
    },
    {
     "name": "stderr",
     "output_type": "stream",
     "text": [
      "Best trial: 1. Best value: 0.32994:  50%|█████     | 4/8 [11:41<11:51, 177.93s/it]"
     ]
    },
    {
     "name": "stdout",
     "output_type": "stream",
     "text": [
      "[I 2025-09-14 08:02:32,728] Trial 3 finished with value: 0.36034139916689084 and parameters: {'learning_rate': 0.06397746136890092, 'subsample': 0.8768675763166529, 'colsample_bytree': 0.8651058590460885, 'max_depth': 10, 'num_leaves': 92, 'min_child_weight': 307}. Best is trial 1 with value: 0.329939723682513.\n"
     ]
    },
    {
     "name": "stderr",
     "output_type": "stream",
     "text": [
      "Best trial: 1. Best value: 0.32994:  62%|██████▎   | 5/8 [14:22<08:36, 172.09s/it]"
     ]
    },
    {
     "name": "stdout",
     "output_type": "stream",
     "text": [
      "[I 2025-09-14 08:05:14,474] Trial 4 finished with value: 0.398526223152342 and parameters: {'learning_rate': 0.060696163925577064, 'subsample': 0.7600049078536442, 'colsample_bytree': 0.778015527080482, 'max_depth': 5, 'num_leaves': 150, 'min_child_weight': 75}. Best is trial 1 with value: 0.329939723682513.\n"
     ]
    },
    {
     "name": "stderr",
     "output_type": "stream",
     "text": [
      "Best trial: 1. Best value: 0.32994:  75%|███████▌  | 6/8 [15:41<04:40, 140.44s/it]"
     ]
    },
    {
     "name": "stdout",
     "output_type": "stream",
     "text": [
      "[I 2025-09-14 08:06:33,466] Trial 5 finished with value: 0.38783203793006726 and parameters: {'learning_rate': 0.14541855615858995, 'subsample': 0.8962560957096631, 'colsample_bytree': 0.8824311007347194, 'max_depth': 11, 'num_leaves': 52, 'min_child_weight': 188}. Best is trial 1 with value: 0.329939723682513.\n"
     ]
    },
    {
     "name": "stderr",
     "output_type": "stream",
     "text": [
      "Best trial: 1. Best value: 0.32994:  88%|████████▊ | 7/8 [19:33<02:50, 170.38s/it]"
     ]
    },
    {
     "name": "stdout",
     "output_type": "stream",
     "text": [
      "[I 2025-09-14 08:10:25,479] Trial 6 finished with value: 0.4328836956921941 and parameters: {'learning_rate': 0.021610379812057344, 'subsample': 0.9854449118509161, 'colsample_bytree': 0.9165621641949003, 'max_depth': 8, 'num_leaves': 72, 'min_child_weight': 177}. Best is trial 1 with value: 0.329939723682513.\n"
     ]
    },
    {
     "name": "stderr",
     "output_type": "stream",
     "text": [
      "Best trial: 1. Best value: 0.32994: 100%|██████████| 8/8 [21:23<00:00, 160.40s/it]\n"
     ]
    },
    {
     "name": "stdout",
     "output_type": "stream",
     "text": [
      "[I 2025-09-14 08:12:14,717] Trial 7 finished with value: 0.3490498725381198 and parameters: {'learning_rate': 0.15255641221050567, 'subsample': 0.7191025894546809, 'colsample_bytree': 0.8452529023056088, 'max_depth': 8, 'num_leaves': 64, 'min_child_weight': 249}. Best is trial 1 with value: 0.329939723682513.\n",
      "Tuning finished. Best RMSE for CA_4: 0.3299\n"
     ]
    },
    {
     "name": "stderr",
     "output_type": "stream",
     "text": [
      "[I 2025-09-14 08:12:20,352] A new study created in memory with name: no-name-eb11a02f-e6fd-4982-a99c-696904d78785\n"
     ]
    },
    {
     "name": "stdout",
     "output_type": "stream",
     "text": [
      "----- Optimizing for Store: TX_1 -----\n"
     ]
    },
    {
     "name": "stderr",
     "output_type": "stream",
     "text": [
      "Best trial: 0. Best value: 0.618374:  12%|█▎        | 1/8 [02:34<18:03, 154.73s/it]"
     ]
    },
    {
     "name": "stdout",
     "output_type": "stream",
     "text": [
      "[I 2025-09-14 08:14:55,082] Trial 0 finished with value: 0.6183740050484485 and parameters: {'learning_rate': 0.09401473324528738, 'subsample': 0.818802034158596, 'colsample_bytree': 0.813166677068591, 'max_depth': 6, 'num_leaves': 49, 'min_child_weight': 220}. Best is trial 0 with value: 0.6183740050484485.\n"
     ]
    },
    {
     "name": "stderr",
     "output_type": "stream",
     "text": [
      "Best trial: 1. Best value: 0.573981:  25%|██▌       | 2/8 [04:33<13:22, 133.71s/it]"
     ]
    },
    {
     "name": "stdout",
     "output_type": "stream",
     "text": [
      "[I 2025-09-14 08:16:54,085] Trial 1 finished with value: 0.573981053048845 and parameters: {'learning_rate': 0.17573273482599966, 'subsample': 0.7863820408138674, 'colsample_bytree': 0.8613061225609222, 'max_depth': 7, 'num_leaves': 68, 'min_child_weight': 183}. Best is trial 1 with value: 0.573981053048845.\n"
     ]
    },
    {
     "name": "stderr",
     "output_type": "stream",
     "text": [
      "Best trial: 1. Best value: 0.573981:  38%|███▊      | 3/8 [06:59<11:36, 139.40s/it]"
     ]
    },
    {
     "name": "stdout",
     "output_type": "stream",
     "text": [
      "[I 2025-09-14 08:19:20,242] Trial 2 finished with value: 0.6463191719888761 and parameters: {'learning_rate': 0.07897960906908738, 'subsample': 0.6109209117732423, 'colsample_bytree': 0.7734885800881733, 'max_depth': 12, 'num_leaves': 62, 'min_child_weight': 413}. Best is trial 1 with value: 0.573981053048845.\n"
     ]
    },
    {
     "name": "stderr",
     "output_type": "stream",
     "text": [
      "Best trial: 1. Best value: 0.573981:  50%|█████     | 4/8 [08:16<07:38, 114.72s/it]"
     ]
    },
    {
     "name": "stdout",
     "output_type": "stream",
     "text": [
      "[I 2025-09-14 08:20:37,128] Trial 3 finished with value: 0.7363344334040053 and parameters: {'learning_rate': 0.11000409256394032, 'subsample': 0.7108359438928569, 'colsample_bytree': 0.988722040313786, 'max_depth': 10, 'num_leaves': 61, 'min_child_weight': 448}. Best is trial 1 with value: 0.573981053048845.\n"
     ]
    },
    {
     "name": "stderr",
     "output_type": "stream",
     "text": [
      "Best trial: 1. Best value: 0.573981:  62%|██████▎   | 5/8 [12:31<08:16, 165.38s/it]"
     ]
    },
    {
     "name": "stdout",
     "output_type": "stream",
     "text": [
      "[I 2025-09-14 08:24:52,349] Trial 4 finished with value: 0.5965618595670996 and parameters: {'learning_rate': 0.06325427061817479, 'subsample': 0.8188756395244565, 'colsample_bytree': 0.6205548890889958, 'max_depth': 8, 'num_leaves': 81, 'min_child_weight': 159}. Best is trial 1 with value: 0.573981053048845.\n"
     ]
    },
    {
     "name": "stderr",
     "output_type": "stream",
     "text": [
      "Best trial: 1. Best value: 0.573981:  75%|███████▌  | 6/8 [16:39<06:26, 193.29s/it]"
     ]
    },
    {
     "name": "stdout",
     "output_type": "stream",
     "text": [
      "[I 2025-09-14 08:28:59,807] Trial 5 finished with value: 0.6043161988254525 and parameters: {'learning_rate': 0.033299209192866636, 'subsample': 0.6967781335942476, 'colsample_bytree': 0.8251694444500172, 'max_depth': 10, 'num_leaves': 104, 'min_child_weight': 113}. Best is trial 1 with value: 0.573981053048845.\n"
     ]
    },
    {
     "name": "stderr",
     "output_type": "stream",
     "text": [
      "Best trial: 6. Best value: 0.547153:  88%|████████▊ | 7/8 [20:05<03:17, 197.31s/it]"
     ]
    },
    {
     "name": "stdout",
     "output_type": "stream",
     "text": [
      "[I 2025-09-14 08:32:25,393] Trial 6 finished with value: 0.547153053304831 and parameters: {'learning_rate': 0.17993784551480824, 'subsample': 0.9450227498522292, 'colsample_bytree': 0.7235068615637289, 'max_depth': 10, 'num_leaves': 77, 'min_child_weight': 215}. Best is trial 6 with value: 0.547153053304831.\n"
     ]
    },
    {
     "name": "stderr",
     "output_type": "stream",
     "text": [
      "Best trial: 6. Best value: 0.547153: 100%|██████████| 8/8 [23:35<00:00, 176.97s/it]\n"
     ]
    },
    {
     "name": "stdout",
     "output_type": "stream",
     "text": [
      "[I 2025-09-14 08:35:56,120] Trial 7 finished with value: 0.5913704866574371 and parameters: {'learning_rate': 0.07948886104389695, 'subsample': 0.6138745298260359, 'colsample_bytree': 0.7014731480103763, 'max_depth': 6, 'num_leaves': 109, 'min_child_weight': 491}. Best is trial 6 with value: 0.547153053304831.\n",
      "Tuning finished. Best RMSE for TX_1: 0.5472\n"
     ]
    },
    {
     "name": "stderr",
     "output_type": "stream",
     "text": [
      "[I 2025-09-14 08:36:01,077] A new study created in memory with name: no-name-36f4b55b-51d2-4feb-a881-84851ff9e2db\n"
     ]
    },
    {
     "name": "stdout",
     "output_type": "stream",
     "text": [
      "----- Optimizing for Store: TX_2 -----\n"
     ]
    },
    {
     "name": "stderr",
     "output_type": "stream",
     "text": [
      "Best trial: 0. Best value: 0.592977:  12%|█▎        | 1/8 [03:30<24:30, 210.12s/it]"
     ]
    },
    {
     "name": "stdout",
     "output_type": "stream",
     "text": [
      "[I 2025-09-14 08:39:31,182] Trial 0 finished with value: 0.5929774241714976 and parameters: {'learning_rate': 0.1552726777996077, 'subsample': 0.7240154757514147, 'colsample_bytree': 0.9313557938334623, 'max_depth': 12, 'num_leaves': 134, 'min_child_weight': 212}. Best is trial 0 with value: 0.5929774241714976.\n"
     ]
    },
    {
     "name": "stderr",
     "output_type": "stream",
     "text": [
      "Best trial: 1. Best value: 0.546061:  25%|██▌       | 2/8 [07:41<23:27, 234.60s/it]"
     ]
    },
    {
     "name": "stdout",
     "output_type": "stream",
     "text": [
      "[I 2025-09-14 08:43:42,934] Trial 1 finished with value: 0.5460607031339095 and parameters: {'learning_rate': 0.054489556650010665, 'subsample': 0.872137463342787, 'colsample_bytree': 0.7031923703174661, 'max_depth': 8, 'num_leaves': 145, 'min_child_weight': 497}. Best is trial 1 with value: 0.5460607031339095.\n"
     ]
    },
    {
     "name": "stderr",
     "output_type": "stream",
     "text": [
      "Best trial: 1. Best value: 0.546061:  38%|███▊      | 3/8 [10:55<17:58, 215.79s/it]"
     ]
    },
    {
     "name": "stdout",
     "output_type": "stream",
     "text": [
      "[I 2025-09-14 08:46:56,335] Trial 2 finished with value: 0.75079824472275 and parameters: {'learning_rate': 0.024410598485015495, 'subsample': 0.679606312059555, 'colsample_bytree': 0.725274092005221, 'max_depth': 5, 'num_leaves': 146, 'min_child_weight': 237}. Best is trial 1 with value: 0.5460607031339095.\n"
     ]
    },
    {
     "name": "stderr",
     "output_type": "stream",
     "text": [
      "Best trial: 1. Best value: 0.546061:  50%|█████     | 4/8 [14:51<14:54, 223.69s/it]"
     ]
    },
    {
     "name": "stdout",
     "output_type": "stream",
     "text": [
      "[I 2025-09-14 08:50:52,129] Trial 3 finished with value: 0.6690888305145101 and parameters: {'learning_rate': 0.03777407632153299, 'subsample': 0.7857180487201401, 'colsample_bytree': 0.8763253852641042, 'max_depth': 12, 'num_leaves': 85, 'min_child_weight': 474}. Best is trial 1 with value: 0.5460607031339095.\n"
     ]
    },
    {
     "name": "stderr",
     "output_type": "stream",
     "text": [
      "Best trial: 1. Best value: 0.546061:  62%|██████▎   | 5/8 [16:45<09:12, 184.28s/it]"
     ]
    },
    {
     "name": "stdout",
     "output_type": "stream",
     "text": [
      "[I 2025-09-14 08:52:46,535] Trial 4 finished with value: 0.5754396740077569 and parameters: {'learning_rate': 0.19042594291966766, 'subsample': 0.9522078676431205, 'colsample_bytree': 0.8215753597350168, 'max_depth': 10, 'num_leaves': 129, 'min_child_weight': 490}. Best is trial 1 with value: 0.5460607031339095.\n"
     ]
    },
    {
     "name": "stderr",
     "output_type": "stream",
     "text": [
      "Best trial: 1. Best value: 0.546061:  75%|███████▌  | 6/8 [20:01<06:16, 188.11s/it]"
     ]
    },
    {
     "name": "stdout",
     "output_type": "stream",
     "text": [
      "[I 2025-09-14 08:56:02,087] Trial 5 finished with value: 0.7049340127160583 and parameters: {'learning_rate': 0.05809793593517462, 'subsample': 0.6189949171858221, 'colsample_bytree': 0.8447781056573147, 'max_depth': 10, 'num_leaves': 63, 'min_child_weight': 493}. Best is trial 1 with value: 0.5460607031339095.\n"
     ]
    },
    {
     "name": "stderr",
     "output_type": "stream",
     "text": [
      "Best trial: 1. Best value: 0.546061:  88%|████████▊ | 7/8 [21:58<02:45, 165.03s/it]"
     ]
    },
    {
     "name": "stdout",
     "output_type": "stream",
     "text": [
      "[I 2025-09-14 08:57:59,584] Trial 6 finished with value: 0.6549089189147227 and parameters: {'learning_rate': 0.16090335017052051, 'subsample': 0.6458004441030303, 'colsample_bytree': 0.9317525831770384, 'max_depth': 12, 'num_leaves': 89, 'min_child_weight': 412}. Best is trial 1 with value: 0.5460607031339095.\n"
     ]
    },
    {
     "name": "stderr",
     "output_type": "stream",
     "text": [
      "Best trial: 1. Best value: 0.546061: 100%|██████████| 8/8 [25:48<00:00, 193.57s/it]\n"
     ]
    },
    {
     "name": "stdout",
     "output_type": "stream",
     "text": [
      "[I 2025-09-14 09:01:49,637] Trial 7 finished with value: 0.6598905942131627 and parameters: {'learning_rate': 0.04434391188484009, 'subsample': 0.9601101047377906, 'colsample_bytree': 0.6534022481141969, 'max_depth': 9, 'num_leaves': 46, 'min_child_weight': 187}. Best is trial 1 with value: 0.5460607031339095.\n",
      "Tuning finished. Best RMSE for TX_2: 0.5461\n"
     ]
    },
    {
     "name": "stderr",
     "output_type": "stream",
     "text": [
      "[I 2025-09-14 09:01:55,818] A new study created in memory with name: no-name-6a00974f-df8c-4354-94c3-e3f90bd5fcbf\n"
     ]
    },
    {
     "name": "stdout",
     "output_type": "stream",
     "text": [
      "----- Optimizing for Store: TX_3 -----\n"
     ]
    },
    {
     "name": "stderr",
     "output_type": "stream",
     "text": [
      "Best trial: 0. Best value: 0.551202:  12%|█▎        | 1/8 [03:05<21:35, 185.12s/it]"
     ]
    },
    {
     "name": "stdout",
     "output_type": "stream",
     "text": [
      "[I 2025-09-14 09:05:00,929] Trial 0 finished with value: 0.5512020604403668 and parameters: {'learning_rate': 0.10172419669831269, 'subsample': 0.7439434204090195, 'colsample_bytree': 0.6503629375352779, 'max_depth': 5, 'num_leaves': 102, 'min_child_weight': 454}. Best is trial 0 with value: 0.5512020604403668.\n"
     ]
    },
    {
     "name": "stderr",
     "output_type": "stream",
     "text": [
      "Best trial: 0. Best value: 0.551202:  25%|██▌       | 2/8 [06:04<18:12, 182.02s/it]"
     ]
    },
    {
     "name": "stdout",
     "output_type": "stream",
     "text": [
      "[I 2025-09-14 09:08:00,772] Trial 1 finished with value: 0.5638123358523317 and parameters: {'learning_rate': 0.11710154823964877, 'subsample': 0.9531361921798579, 'colsample_bytree': 0.9470206682618579, 'max_depth': 7, 'num_leaves': 62, 'min_child_weight': 285}. Best is trial 0 with value: 0.5512020604403668.\n"
     ]
    },
    {
     "name": "stderr",
     "output_type": "stream",
     "text": [
      "Best trial: 0. Best value: 0.551202:  38%|███▊      | 3/8 [10:06<17:25, 209.16s/it]"
     ]
    },
    {
     "name": "stdout",
     "output_type": "stream",
     "text": [
      "[I 2025-09-14 09:12:02,223] Trial 2 finished with value: 0.6246058965303928 and parameters: {'learning_rate': 0.022671490181976593, 'subsample': 0.8824131803046364, 'colsample_bytree': 0.93258121786522, 'max_depth': 7, 'num_leaves': 150, 'min_child_weight': 438}. Best is trial 0 with value: 0.5512020604403668.\n"
     ]
    },
    {
     "name": "stderr",
     "output_type": "stream",
     "text": [
      "Best trial: 0. Best value: 0.551202:  50%|█████     | 4/8 [12:11<11:43, 175.98s/it]"
     ]
    },
    {
     "name": "stdout",
     "output_type": "stream",
     "text": [
      "[I 2025-09-14 09:14:07,354] Trial 3 finished with value: 0.6031949633199465 and parameters: {'learning_rate': 0.08216148475678858, 'subsample': 0.7253165179019121, 'colsample_bytree': 0.8764523904270352, 'max_depth': 10, 'num_leaves': 50, 'min_child_weight': 83}. Best is trial 0 with value: 0.5512020604403668.\n"
     ]
    },
    {
     "name": "stderr",
     "output_type": "stream",
     "text": [
      "Best trial: 4. Best value: 0.550091:  62%|██████▎   | 5/8 [14:59<08:39, 173.17s/it]"
     ]
    },
    {
     "name": "stdout",
     "output_type": "stream",
     "text": [
      "[I 2025-09-14 09:16:55,533] Trial 4 finished with value: 0.5500907556009498 and parameters: {'learning_rate': 0.06413519911447747, 'subsample': 0.9972905853212524, 'colsample_bytree': 0.7674356878462795, 'max_depth': 9, 'num_leaves': 85, 'min_child_weight': 351}. Best is trial 4 with value: 0.5500907556009498.\n"
     ]
    },
    {
     "name": "stderr",
     "output_type": "stream",
     "text": [
      "Best trial: 4. Best value: 0.550091:  75%|███████▌  | 6/8 [17:44<05:40, 170.37s/it]"
     ]
    },
    {
     "name": "stdout",
     "output_type": "stream",
     "text": [
      "[I 2025-09-14 09:19:40,485] Trial 5 finished with value: 0.5750570413759291 and parameters: {'learning_rate': 0.0565695746537662, 'subsample': 0.8360466012989918, 'colsample_bytree': 0.8816067361397493, 'max_depth': 7, 'num_leaves': 143, 'min_child_weight': 396}. Best is trial 4 with value: 0.5500907556009498.\n"
     ]
    },
    {
     "name": "stderr",
     "output_type": "stream",
     "text": [
      "Best trial: 6. Best value: 0.538858:  88%|████████▊ | 7/8 [21:13<03:02, 182.87s/it]"
     ]
    },
    {
     "name": "stdout",
     "output_type": "stream",
     "text": [
      "[I 2025-09-14 09:23:09,067] Trial 6 finished with value: 0.5388578195103411 and parameters: {'learning_rate': 0.05882360330272103, 'subsample': 0.8478349389612412, 'colsample_bytree': 0.8334726298395004, 'max_depth': 6, 'num_leaves': 97, 'min_child_weight': 182}. Best is trial 6 with value: 0.5388578195103411.\n"
     ]
    },
    {
     "name": "stderr",
     "output_type": "stream",
     "text": [
      "Best trial: 7. Best value: 0.495916: 100%|██████████| 8/8 [24:02<00:00, 180.34s/it]\n"
     ]
    },
    {
     "name": "stdout",
     "output_type": "stream",
     "text": [
      "[I 2025-09-14 09:25:58,550] Trial 7 finished with value: 0.49591639772544743 and parameters: {'learning_rate': 0.16706625808079278, 'subsample': 0.8233213090275991, 'colsample_bytree': 0.734064943461992, 'max_depth': 9, 'num_leaves': 99, 'min_child_weight': 379}. Best is trial 7 with value: 0.49591639772544743.\n",
      "Tuning finished. Best RMSE for TX_3: 0.4959\n"
     ]
    },
    {
     "name": "stderr",
     "output_type": "stream",
     "text": [
      "[I 2025-09-14 09:26:05,528] A new study created in memory with name: no-name-19590250-782a-4374-ac75-77d6a7b24d6f\n"
     ]
    },
    {
     "name": "stdout",
     "output_type": "stream",
     "text": [
      "----- Optimizing for Store: WI_1 -----\n"
     ]
    },
    {
     "name": "stderr",
     "output_type": "stream",
     "text": [
      "Best trial: 0. Best value: 0.397319:  12%|█▎        | 1/8 [01:44<12:08, 104.10s/it]"
     ]
    },
    {
     "name": "stdout",
     "output_type": "stream",
     "text": [
      "[I 2025-09-14 09:27:49,617] Trial 0 finished with value: 0.39731943615200765 and parameters: {'learning_rate': 0.1287377659139851, 'subsample': 0.875688389677765, 'colsample_bytree': 0.6330646410258682, 'max_depth': 10, 'num_leaves': 97, 'min_child_weight': 86}. Best is trial 0 with value: 0.39731943615200765.\n"
     ]
    },
    {
     "name": "stderr",
     "output_type": "stream",
     "text": [
      "Best trial: 1. Best value: 0.367544:  25%|██▌       | 2/8 [04:39<14:35, 145.99s/it]"
     ]
    },
    {
     "name": "stdout",
     "output_type": "stream",
     "text": [
      "[I 2025-09-14 09:30:44,940] Trial 1 finished with value: 0.3675441734408371 and parameters: {'learning_rate': 0.1598280083022454, 'subsample': 0.8773123287191744, 'colsample_bytree': 0.7993590832993427, 'max_depth': 6, 'num_leaves': 108, 'min_child_weight': 178}. Best is trial 1 with value: 0.3675441734408371.\n"
     ]
    },
    {
     "name": "stderr",
     "output_type": "stream",
     "text": [
      "Best trial: 1. Best value: 0.367544:  38%|███▊      | 3/8 [08:22<15:05, 181.02s/it]"
     ]
    },
    {
     "name": "stdout",
     "output_type": "stream",
     "text": [
      "[I 2025-09-14 09:34:27,644] Trial 2 finished with value: 0.41524790255863714 and parameters: {'learning_rate': 0.04313434153581377, 'subsample': 0.6648712978793794, 'colsample_bytree': 0.7234136977272725, 'max_depth': 12, 'num_leaves': 44, 'min_child_weight': 130}. Best is trial 1 with value: 0.3675441734408371.\n"
     ]
    },
    {
     "name": "stderr",
     "output_type": "stream",
     "text": [
      "Best trial: 1. Best value: 0.367544:  50%|█████     | 4/8 [11:37<12:26, 186.74s/it]"
     ]
    },
    {
     "name": "stdout",
     "output_type": "stream",
     "text": [
      "[I 2025-09-14 09:37:43,148] Trial 3 finished with value: 0.3841286670075038 and parameters: {'learning_rate': 0.1481793713729699, 'subsample': 0.6109727147552179, 'colsample_bytree': 0.8030723833351587, 'max_depth': 11, 'num_leaves': 70, 'min_child_weight': 67}. Best is trial 1 with value: 0.3675441734408371.\n"
     ]
    },
    {
     "name": "stderr",
     "output_type": "stream",
     "text": [
      "Best trial: 1. Best value: 0.367544:  62%|██████▎   | 5/8 [14:16<08:49, 176.52s/it]"
     ]
    },
    {
     "name": "stdout",
     "output_type": "stream",
     "text": [
      "[I 2025-09-14 09:40:21,558] Trial 4 finished with value: 0.4308146846902942 and parameters: {'learning_rate': 0.11828570259547831, 'subsample': 0.9883986961481268, 'colsample_bytree': 0.851752338921204, 'max_depth': 8, 'num_leaves': 38, 'min_child_weight': 120}. Best is trial 1 with value: 0.3675441734408371.\n"
     ]
    },
    {
     "name": "stderr",
     "output_type": "stream",
     "text": [
      "Best trial: 1. Best value: 0.367544:  75%|███████▌  | 6/8 [16:25<05:21, 160.53s/it]"
     ]
    },
    {
     "name": "stdout",
     "output_type": "stream",
     "text": [
      "[I 2025-09-14 09:42:31,038] Trial 5 finished with value: 0.4057914710781239 and parameters: {'learning_rate': 0.13104868630884195, 'subsample': 0.8434730724212585, 'colsample_bytree': 0.9161577445585803, 'max_depth': 11, 'num_leaves': 130, 'min_child_weight': 240}. Best is trial 1 with value: 0.3675441734408371.\n"
     ]
    },
    {
     "name": "stderr",
     "output_type": "stream",
     "text": [
      "Best trial: 1. Best value: 0.367544:  88%|████████▊ | 7/8 [19:30<02:48, 168.64s/it]"
     ]
    },
    {
     "name": "stdout",
     "output_type": "stream",
     "text": [
      "[I 2025-09-14 09:45:36,384] Trial 6 finished with value: 0.44253907208355103 and parameters: {'learning_rate': 0.05536904396495465, 'subsample': 0.8772190287580734, 'colsample_bytree': 0.9291191929035879, 'max_depth': 6, 'num_leaves': 36, 'min_child_weight': 445}. Best is trial 1 with value: 0.3675441734408371.\n"
     ]
    },
    {
     "name": "stderr",
     "output_type": "stream",
     "text": [
      "Best trial: 1. Best value: 0.367544: 100%|██████████| 8/8 [21:53<00:00, 164.14s/it]\n"
     ]
    },
    {
     "name": "stdout",
     "output_type": "stream",
     "text": [
      "[I 2025-09-14 09:47:58,627] Trial 7 finished with value: 0.3704600709345388 and parameters: {'learning_rate': 0.18495792761574323, 'subsample': 0.7605789960674871, 'colsample_bytree': 0.7957119121303029, 'max_depth': 12, 'num_leaves': 120, 'min_child_weight': 208}. Best is trial 1 with value: 0.3675441734408371.\n",
      "Tuning finished. Best RMSE for WI_1: 0.3675\n"
     ]
    },
    {
     "name": "stderr",
     "output_type": "stream",
     "text": [
      "[I 2025-09-14 09:48:09,599] A new study created in memory with name: no-name-5908ad85-6922-48eb-8a18-b46853dbb2a9\n"
     ]
    },
    {
     "name": "stdout",
     "output_type": "stream",
     "text": [
      "----- Optimizing for Store: WI2 -----\n"
     ]
    },
    {
     "name": "stderr",
     "output_type": "stream",
     "text": [
      "Best trial: 0. Best value: 1.33374:  12%|█▎        | 1/8 [02:39<18:33, 159.10s/it]"
     ]
    },
    {
     "name": "stdout",
     "output_type": "stream",
     "text": [
      "[I 2025-09-14 09:50:48,695] Trial 0 finished with value: 1.3337413733296766 and parameters: {'learning_rate': 0.04547341409922096, 'subsample': 0.6055020756892109, 'colsample_bytree': 0.8820348229412075, 'max_depth': 5, 'num_leaves': 83, 'min_child_weight': 401}. Best is trial 0 with value: 1.3337413733296766.\n"
     ]
    },
    {
     "name": "stderr",
     "output_type": "stream",
     "text": [
      "Best trial: 1. Best value: 1.13001:  25%|██▌       | 2/8 [03:50<10:45, 107.57s/it]"
     ]
    },
    {
     "name": "stdout",
     "output_type": "stream",
     "text": [
      "[I 2025-09-14 09:52:00,197] Trial 1 finished with value: 1.1300119528529036 and parameters: {'learning_rate': 0.185619798549799, 'subsample': 0.9503243323247663, 'colsample_bytree': 0.8872922370465928, 'max_depth': 7, 'num_leaves': 123, 'min_child_weight': 113}. Best is trial 1 with value: 1.1300119528529036.\n"
     ]
    },
    {
     "name": "stderr",
     "output_type": "stream",
     "text": [
      "Best trial: 1. Best value: 1.13001:  38%|███▊      | 3/8 [06:09<10:09, 121.84s/it]"
     ]
    },
    {
     "name": "stdout",
     "output_type": "stream",
     "text": [
      "[I 2025-09-14 09:54:19,015] Trial 2 finished with value: 1.224331852762863 and parameters: {'learning_rate': 0.10420531901132896, 'subsample': 0.6951019244538661, 'colsample_bytree': 0.6179823779095116, 'max_depth': 11, 'num_leaves': 96, 'min_child_weight': 347}. Best is trial 1 with value: 1.1300119528529036.\n"
     ]
    },
    {
     "name": "stderr",
     "output_type": "stream",
     "text": [
      "Best trial: 1. Best value: 1.13001:  50%|█████     | 4/8 [09:24<10:02, 150.63s/it]"
     ]
    },
    {
     "name": "stdout",
     "output_type": "stream",
     "text": [
      "[I 2025-09-14 09:57:33,779] Trial 3 finished with value: 1.3157791149321545 and parameters: {'learning_rate': 0.1652300713574786, 'subsample': 0.651860271844868, 'colsample_bytree': 0.9442848529712065, 'max_depth': 10, 'num_leaves': 60, 'min_child_weight': 396}. Best is trial 1 with value: 1.1300119528529036.\n"
     ]
    },
    {
     "name": "stderr",
     "output_type": "stream",
     "text": [
      "Best trial: 1. Best value: 1.13001:  62%|██████▎   | 5/8 [13:03<08:46, 175.42s/it]"
     ]
    },
    {
     "name": "stdout",
     "output_type": "stream",
     "text": [
      "[I 2025-09-14 10:01:13,141] Trial 4 finished with value: 1.192975859368645 and parameters: {'learning_rate': 0.032344607503712375, 'subsample': 0.9471466695163984, 'colsample_bytree': 0.9684291467770817, 'max_depth': 12, 'num_leaves': 144, 'min_child_weight': 323}. Best is trial 1 with value: 1.1300119528529036.\n"
     ]
    },
    {
     "name": "stderr",
     "output_type": "stream",
     "text": [
      "Best trial: 1. Best value: 1.13001:  75%|███████▌  | 6/8 [15:56<05:49, 174.63s/it]"
     ]
    },
    {
     "name": "stdout",
     "output_type": "stream",
     "text": [
      "[I 2025-09-14 10:04:06,257] Trial 5 finished with value: 1.2236858006436848 and parameters: {'learning_rate': 0.060369080959773794, 'subsample': 0.7101680439419258, 'colsample_bytree': 0.6249869718842447, 'max_depth': 10, 'num_leaves': 147, 'min_child_weight': 360}. Best is trial 1 with value: 1.1300119528529036.\n"
     ]
    },
    {
     "name": "stderr",
     "output_type": "stream",
     "text": [
      "Best trial: 1. Best value: 1.13001:  88%|████████▊ | 7/8 [17:23<02:26, 146.02s/it]"
     ]
    },
    {
     "name": "stdout",
     "output_type": "stream",
     "text": [
      "[I 2025-09-14 10:05:33,371] Trial 6 finished with value: 1.331970808242982 and parameters: {'learning_rate': 0.11053913643020044, 'subsample': 0.687579982768614, 'colsample_bytree': 0.9935789931098726, 'max_depth': 7, 'num_leaves': 42, 'min_child_weight': 478}. Best is trial 1 with value: 1.1300119528529036.\n"
     ]
    },
    {
     "name": "stderr",
     "output_type": "stream",
     "text": [
      "Best trial: 1. Best value: 1.13001: 100%|██████████| 8/8 [22:12<00:00, 166.55s/it]\n"
     ]
    },
    {
     "name": "stdout",
     "output_type": "stream",
     "text": [
      "[I 2025-09-14 10:10:21,978] Trial 7 finished with value: 1.329440562744346 and parameters: {'learning_rate': 0.024865287923653168, 'subsample': 0.7038946916288965, 'colsample_bytree': 0.7107292314510936, 'max_depth': 11, 'num_leaves': 147, 'min_child_weight': 73}. Best is trial 1 with value: 1.1300119528529036.\n",
      "Tuning finished. Best RMSE for WI2: 1.1300\n"
     ]
    },
    {
     "name": "stderr",
     "output_type": "stream",
     "text": [
      "[I 2025-09-14 10:10:29,030] A new study created in memory with name: no-name-fd2e77cc-b0df-4756-9828-5e115fb63875\n"
     ]
    },
    {
     "name": "stdout",
     "output_type": "stream",
     "text": [
      "----- Optimizing for Store: WI_3 -----\n"
     ]
    },
    {
     "name": "stderr",
     "output_type": "stream",
     "text": [
      "Best trial: 0. Best value: 0.634177:  12%|█▎        | 1/8 [02:33<17:56, 153.72s/it]"
     ]
    },
    {
     "name": "stdout",
     "output_type": "stream",
     "text": [
      "[I 2025-09-14 10:13:02,739] Trial 0 finished with value: 0.6341769167106487 and parameters: {'learning_rate': 0.11383512319801674, 'subsample': 0.9189221702821254, 'colsample_bytree': 0.6457458726204681, 'max_depth': 8, 'num_leaves': 102, 'min_child_weight': 337}. Best is trial 0 with value: 0.6341769167106487.\n"
     ]
    },
    {
     "name": "stderr",
     "output_type": "stream",
     "text": [
      "Best trial: 0. Best value: 0.634177:  25%|██▌       | 2/8 [04:57<14:48, 148.04s/it]"
     ]
    },
    {
     "name": "stdout",
     "output_type": "stream",
     "text": [
      "[I 2025-09-14 10:15:26,794] Trial 1 finished with value: 0.7800493310471642 and parameters: {'learning_rate': 0.07838548156043623, 'subsample': 0.9489208737619372, 'colsample_bytree': 0.6349782449800122, 'max_depth': 9, 'num_leaves': 84, 'min_child_weight': 240}. Best is trial 0 with value: 0.6341769167106487.\n"
     ]
    },
    {
     "name": "stderr",
     "output_type": "stream",
     "text": [
      "Best trial: 0. Best value: 0.634177:  38%|███▊      | 3/8 [07:07<11:38, 139.69s/it]"
     ]
    },
    {
     "name": "stdout",
     "output_type": "stream",
     "text": [
      "[I 2025-09-14 10:17:36,554] Trial 2 finished with value: 0.6436940010090803 and parameters: {'learning_rate': 0.19846262123989408, 'subsample': 0.8928989936563236, 'colsample_bytree': 0.8281471460996291, 'max_depth': 7, 'num_leaves': 63, 'min_child_weight': 267}. Best is trial 0 with value: 0.6341769167106487.\n"
     ]
    },
    {
     "name": "stderr",
     "output_type": "stream",
     "text": [
      "Best trial: 0. Best value: 0.634177:  50%|█████     | 4/8 [09:04<08:42, 130.61s/it]"
     ]
    },
    {
     "name": "stdout",
     "output_type": "stream",
     "text": [
      "[I 2025-09-14 10:19:33,253] Trial 3 finished with value: 0.689327784726294 and parameters: {'learning_rate': 0.18539571208443442, 'subsample': 0.9694394726634438, 'colsample_bytree': 0.984002852465473, 'max_depth': 7, 'num_leaves': 94, 'min_child_weight': 163}. Best is trial 0 with value: 0.6341769167106487.\n"
     ]
    },
    {
     "name": "stderr",
     "output_type": "stream",
     "text": [
      "Best trial: 0. Best value: 0.634177:  62%|██████▎   | 5/8 [12:51<08:16, 165.57s/it]"
     ]
    },
    {
     "name": "stdout",
     "output_type": "stream",
     "text": [
      "[I 2025-09-14 10:23:20,820] Trial 4 finished with value: 0.6865928625699131 and parameters: {'learning_rate': 0.07564674151478158, 'subsample': 0.6111020017677321, 'colsample_bytree': 0.9355397013496537, 'max_depth': 12, 'num_leaves': 127, 'min_child_weight': 76}. Best is trial 0 with value: 0.6341769167106487.\n"
     ]
    },
    {
     "name": "stderr",
     "output_type": "stream",
     "text": [
      "Best trial: 5. Best value: 0.628311:  75%|███████▌  | 6/8 [15:15<05:15, 157.99s/it]"
     ]
    },
    {
     "name": "stdout",
     "output_type": "stream",
     "text": [
      "[I 2025-09-14 10:25:44,072] Trial 5 finished with value: 0.6283111249560935 and parameters: {'learning_rate': 0.19884003269103204, 'subsample': 0.9418934172261277, 'colsample_bytree': 0.748848702465295, 'max_depth': 7, 'num_leaves': 82, 'min_child_weight': 480}. Best is trial 5 with value: 0.6283111249560935.\n"
     ]
    },
    {
     "name": "stderr",
     "output_type": "stream",
     "text": [
      "Best trial: 5. Best value: 0.628311:  88%|████████▊ | 7/8 [18:07<02:42, 162.74s/it]"
     ]
    },
    {
     "name": "stdout",
     "output_type": "stream",
     "text": [
      "[I 2025-09-14 10:28:36,590] Trial 6 finished with value: 0.6477617588283114 and parameters: {'learning_rate': 0.10277690993568782, 'subsample': 0.8815334273039608, 'colsample_bytree': 0.8674682747126156, 'max_depth': 12, 'num_leaves': 84, 'min_child_weight': 305}. Best is trial 5 with value: 0.6283111249560935.\n"
     ]
    },
    {
     "name": "stderr",
     "output_type": "stream",
     "text": [
      "Best trial: 5. Best value: 0.628311: 100%|██████████| 8/8 [20:24<00:00, 153.03s/it]"
     ]
    },
    {
     "name": "stdout",
     "output_type": "stream",
     "text": [
      "[I 2025-09-14 10:30:53,221] Trial 7 finished with value: 0.680667739515964 and parameters: {'learning_rate': 0.10928985182480255, 'subsample': 0.8017756917369361, 'colsample_bytree': 0.6307793926500257, 'max_depth': 6, 'num_leaves': 115, 'min_child_weight': 288}. Best is trial 5 with value: 0.6283111249560935.\n",
      "Tuning finished. Best RMSE for WI_3: 0.6283\n"
     ]
    },
    {
     "name": "stderr",
     "output_type": "stream",
     "text": [
      "\n"
     ]
    }
   ],
   "source": [
    "#def optimize_and_evaluate_models(data):\n",
    "\"\"\"\n",
    "Trains and evaluates models for each store using a validation set.\n",
    "\"\"\"\n",
    "print(\"--- Starting Local Evaluation Phase ---\")\n",
    "d_store_id = {0: 'CA_1', 1: 'CA_2', 2: 'CA_3', 3: 'CA_4', 4: 'TX_1', 5: 'TX_2', 6: 'TX_3', 7: 'WI_1', 8: 'WI_2', 9: 'WI_3'}\n",
    "stores = data.store_id.unique().tolist()\n",
    "\n",
    "if not os.path.exists('lgbmodels'):\n",
    "    os.makedirs('lgbmodels')\n",
    "    print(\"Created directory: lgbmodels\")\n",
    "\n",
    "\n",
    "for store in stores:\n",
    "    df = data[data['store_id'] == store]\n",
    "    \n",
    "    X_train, y_train = df[df['d'] < 1885].drop('sold', axis=1), df[df['d'] < 1885]['sold']\n",
    "    X_valid, y_valid = df[(df['d'] >= 1885) & (df['d'] < 1914)].drop('sold', axis=1), df[(df['d'] >= 1885) & (df['d'] < 1914)]['sold']\n",
    "    \n",
    "    def objective(trial):\n",
    "        params = {\n",
    "            'objective': 'regression_l1',\n",
    "            'metric': 'rmse',\n",
    "            'n_estimators': 700,\n",
    "            'learning_rate': trial.suggest_float('learning_rate', 0.01, 0.2),\n",
    "            'subsample': trial.suggest_float('subsample', 0.6, 1.0),\n",
    "            'colsample_bytree': trial.suggest_float('colsample_bytree', 0.6, 1.0),\n",
    "            'max_depth': trial.suggest_int('max_depth', 5, 12),\n",
    "            'num_leaves': trial.suggest_int('num_leaves', 30, 150),\n",
    "            'min_child_weight': trial.suggest_int('min_child_weight', 50, 500),\n",
    "            'verbose': -1,\n",
    "            'n_jobs': -1,\n",
    "            'random_state': 42\n",
    "        }\n",
    "        model = lgb.LGBMRegressor(**params)\n",
    "        model.fit(X_train, y_train, eval_set=[(X_valid, y_valid)],\n",
    "                  eval_metric='rmse', callbacks=[lgb.early_stopping(20, verbose=False)])\n",
    "        return model.best_score_['valid_0']['rmse']\n",
    "    print(f'----- Optimizing for Store: {d_store_id[store]} -----')\n",
    "    study = optuna.create_study(direction='minimize')\n",
    "    study.optimize(objective, n_trials=8, show_progress_bar=True)\n",
    "    \n",
    "    best_params = study.best_params\n",
    "    best_rmse = study.best_value\n",
    "    print(f\"Tuning finished. Best RMSE for {d_store_id[store]}: {best_rmse:.4f}\")\n",
    "    joblib.dump(best_params, f'lgbmodels/best_params_{d_store_id[store]}.pkl')"
   ]
  },
  {
   "cell_type": "code",
   "execution_count": 25,
   "id": "21a7325d",
   "metadata": {},
   "outputs": [
    {
     "name": "stdout",
     "output_type": "stream",
     "text": [
      "--- Starting Local Evaluation Phase ---\n"
     ]
    },
    {
     "name": "stderr",
     "output_type": "stream",
     "text": [
      "[I 2025-09-14 14:07:30,818] A new study created in memory with name: no-name-7a4a0d1e-5241-4398-9777-3eae0a91b4f6\n"
     ]
    },
    {
     "name": "stdout",
     "output_type": "stream",
     "text": [
      "----- Optimizing for Store: CA_1 -----\n"
     ]
    },
    {
     "name": "stderr",
     "output_type": "stream",
     "text": [
      "Best trial: 0. Best value: 0.551531:  12%|█▎        | 1/8 [00:59<06:57, 59.69s/it]"
     ]
    },
    {
     "name": "stdout",
     "output_type": "stream",
     "text": [
      "[I 2025-09-14 14:08:30,520] Trial 0 finished with value: 0.5515309635472638 and parameters: {'learning_rate': 0.06286781614138935, 'subsample': 0.8926341294025253, 'colsample_bytree': 0.7337378421256954, 'max_depth': 12, 'min_child_weight': 107}. Best is trial 0 with value: 0.5515309635472638.\n"
     ]
    },
    {
     "name": "stderr",
     "output_type": "stream",
     "text": [
      "Best trial: 0. Best value: 0.551531:  25%|██▌       | 2/8 [01:45<05:09, 51.63s/it]"
     ]
    },
    {
     "name": "stdout",
     "output_type": "stream",
     "text": [
      "[I 2025-09-14 14:09:16,513] Trial 1 finished with value: 0.5883888592016717 and parameters: {'learning_rate': 0.0453032137694807, 'subsample': 0.6519036727720857, 'colsample_bytree': 0.9459520773131244, 'max_depth': 6, 'min_child_weight': 83}. Best is trial 0 with value: 0.5515309635472638.\n"
     ]
    },
    {
     "name": "stderr",
     "output_type": "stream",
     "text": [
      "Best trial: 0. Best value: 0.551531:  38%|███▊      | 3/8 [02:03<03:01, 36.29s/it]"
     ]
    },
    {
     "name": "stdout",
     "output_type": "stream",
     "text": [
      "[I 2025-09-14 14:09:34,546] Trial 2 finished with value: 0.5671230647369587 and parameters: {'learning_rate': 0.15817371666096333, 'subsample': 0.743152023337314, 'colsample_bytree': 0.9792123565884309, 'max_depth': 8, 'min_child_weight': 192}. Best is trial 0 with value: 0.5515309635472638.\n"
     ]
    },
    {
     "name": "stderr",
     "output_type": "stream",
     "text": [
      "Best trial: 0. Best value: 0.551531:  50%|█████     | 4/8 [02:26<02:04, 31.08s/it]"
     ]
    },
    {
     "name": "stdout",
     "output_type": "stream",
     "text": [
      "[I 2025-09-14 14:09:57,636] Trial 3 finished with value: 0.591434128380108 and parameters: {'learning_rate': 0.18682263001965907, 'subsample': 0.9129625848026853, 'colsample_bytree': 0.8349964461985514, 'max_depth': 6, 'min_child_weight': 204}. Best is trial 0 with value: 0.5515309635472638.\n"
     ]
    },
    {
     "name": "stderr",
     "output_type": "stream",
     "text": [
      "Best trial: 0. Best value: 0.551531:  62%|██████▎   | 5/8 [02:53<01:28, 29.40s/it]"
     ]
    },
    {
     "name": "stdout",
     "output_type": "stream",
     "text": [
      "[I 2025-09-14 14:10:24,060] Trial 4 finished with value: 0.6267293845743573 and parameters: {'learning_rate': 0.16390519229002873, 'subsample': 0.8350444811067027, 'colsample_bytree': 0.676753994888339, 'max_depth': 5, 'min_child_weight': 104}. Best is trial 0 with value: 0.5515309635472638.\n"
     ]
    },
    {
     "name": "stderr",
     "output_type": "stream",
     "text": [
      "Best trial: 0. Best value: 0.551531:  75%|███████▌  | 6/8 [03:39<01:10, 35.17s/it]"
     ]
    },
    {
     "name": "stdout",
     "output_type": "stream",
     "text": [
      "[I 2025-09-14 14:11:10,427] Trial 5 finished with value: 0.5605931811196645 and parameters: {'learning_rate': 0.05444097067981325, 'subsample': 0.9670995087228885, 'colsample_bytree': 0.9139100110491953, 'max_depth': 9, 'min_child_weight': 496}. Best is trial 0 with value: 0.5515309635472638.\n"
     ]
    },
    {
     "name": "stderr",
     "output_type": "stream",
     "text": [
      "Best trial: 0. Best value: 0.551531:  88%|████████▊ | 7/8 [04:03<00:31, 31.39s/it]"
     ]
    },
    {
     "name": "stdout",
     "output_type": "stream",
     "text": [
      "[I 2025-09-14 14:11:34,048] Trial 6 finished with value: 0.5989311930823845 and parameters: {'learning_rate': 0.1947462737822728, 'subsample': 0.7851711213959061, 'colsample_bytree': 0.6778216738557882, 'max_depth': 6, 'min_child_weight': 193}. Best is trial 0 with value: 0.5515309635472638.\n"
     ]
    },
    {
     "name": "stderr",
     "output_type": "stream",
     "text": [
      "Best trial: 0. Best value: 0.551531: 100%|██████████| 8/8 [04:21<00:00, 32.71s/it]\n"
     ]
    },
    {
     "name": "stdout",
     "output_type": "stream",
     "text": [
      "[I 2025-09-14 14:11:52,518] Trial 7 finished with value: 0.559784107741655 and parameters: {'learning_rate': 0.17030790798081796, 'subsample': 0.9134807789911891, 'colsample_bytree': 0.9126466610378774, 'max_depth': 10, 'min_child_weight': 374}. Best is trial 0 with value: 0.5515309635472638.\n",
      "Tuning finished. Best RMSE for CA_1: 0.5515\n"
     ]
    },
    {
     "name": "stderr",
     "output_type": "stream",
     "text": [
      "[I 2025-09-14 14:11:58,893] A new study created in memory with name: no-name-fa4bf72c-da1b-46c9-b8b0-168420c400a1\n"
     ]
    },
    {
     "name": "stdout",
     "output_type": "stream",
     "text": [
      "----- Optimizing for Store: CA_2 -----\n"
     ]
    },
    {
     "name": "stderr",
     "output_type": "stream",
     "text": [
      "Best trial: 0. Best value: 0.448438:  12%|█▎        | 1/8 [00:47<05:30, 47.19s/it]"
     ]
    },
    {
     "name": "stdout",
     "output_type": "stream",
     "text": [
      "[I 2025-09-14 14:12:46,082] Trial 0 finished with value: 0.44843793264228604 and parameters: {'learning_rate': 0.062126052169302254, 'subsample': 0.8062763448281552, 'colsample_bytree': 0.8377518137756682, 'max_depth': 11, 'min_child_weight': 189}. Best is trial 0 with value: 0.44843793264228604.\n"
     ]
    },
    {
     "name": "stderr",
     "output_type": "stream",
     "text": [
      "Best trial: 0. Best value: 0.448438:  25%|██▌       | 2/8 [03:07<10:12, 102.15s/it]"
     ]
    },
    {
     "name": "stdout",
     "output_type": "stream",
     "text": [
      "[I 2025-09-14 14:15:06,707] Trial 1 finished with value: 0.5195097954701302 and parameters: {'learning_rate': 0.0128957630174246, 'subsample': 0.8301514132382548, 'colsample_bytree': 0.632672854858232, 'max_depth': 5, 'min_child_weight': 471}. Best is trial 0 with value: 0.44843793264228604.\n"
     ]
    },
    {
     "name": "stderr",
     "output_type": "stream",
     "text": [
      "Best trial: 0. Best value: 0.448438:  38%|███▊      | 3/8 [04:45<08:19, 99.94s/it] "
     ]
    },
    {
     "name": "stdout",
     "output_type": "stream",
     "text": [
      "[I 2025-09-14 14:16:44,020] Trial 2 finished with value: 0.45709413927160386 and parameters: {'learning_rate': 0.04044889066634034, 'subsample': 0.7528548879834689, 'colsample_bytree': 0.7201455424959737, 'max_depth': 7, 'min_child_weight': 216}. Best is trial 0 with value: 0.44843793264228604.\n"
     ]
    },
    {
     "name": "stderr",
     "output_type": "stream",
     "text": [
      "Best trial: 0. Best value: 0.448438:  50%|█████     | 4/8 [05:13<04:47, 71.88s/it]"
     ]
    },
    {
     "name": "stdout",
     "output_type": "stream",
     "text": [
      "[I 2025-09-14 14:17:12,884] Trial 3 finished with value: 0.4791114367568917 and parameters: {'learning_rate': 0.1628214400946912, 'subsample': 0.8263286712377895, 'colsample_bytree': 0.6583686483691799, 'max_depth': 7, 'min_child_weight': 183}. Best is trial 0 with value: 0.44843793264228604.\n"
     ]
    },
    {
     "name": "stderr",
     "output_type": "stream",
     "text": [
      "Best trial: 0. Best value: 0.448438:  62%|██████▎   | 5/8 [05:42<02:48, 56.31s/it]"
     ]
    },
    {
     "name": "stdout",
     "output_type": "stream",
     "text": [
      "[I 2025-09-14 14:17:41,584] Trial 4 finished with value: 0.4638292959698685 and parameters: {'learning_rate': 0.09931711899738072, 'subsample': 0.7946547609804218, 'colsample_bytree': 0.8899776463059894, 'max_depth': 7, 'min_child_weight': 132}. Best is trial 0 with value: 0.44843793264228604.\n"
     ]
    },
    {
     "name": "stderr",
     "output_type": "stream",
     "text": [
      "Best trial: 0. Best value: 0.448438:  75%|███████▌  | 6/8 [08:11<02:55, 87.75s/it]"
     ]
    },
    {
     "name": "stdout",
     "output_type": "stream",
     "text": [
      "[I 2025-09-14 14:20:10,369] Trial 5 finished with value: 0.5098475247943948 and parameters: {'learning_rate': 0.010525220472464214, 'subsample': 0.7332624620709617, 'colsample_bytree': 0.8761043763808133, 'max_depth': 5, 'min_child_weight': 90}. Best is trial 0 with value: 0.44843793264228604.\n"
     ]
    },
    {
     "name": "stderr",
     "output_type": "stream",
     "text": [
      "Best trial: 0. Best value: 0.448438:  88%|████████▊ | 7/8 [09:08<01:17, 77.56s/it]"
     ]
    },
    {
     "name": "stdout",
     "output_type": "stream",
     "text": [
      "[I 2025-09-14 14:21:06,955] Trial 6 finished with value: 0.4759825319863632 and parameters: {'learning_rate': 0.120927607480975, 'subsample': 0.7536663511153968, 'colsample_bytree': 0.6098040173332894, 'max_depth': 8, 'min_child_weight': 413}. Best is trial 0 with value: 0.44843793264228604.\n"
     ]
    },
    {
     "name": "stderr",
     "output_type": "stream",
     "text": [
      "Best trial: 7. Best value: 0.444601: 100%|██████████| 8/8 [09:46<00:00, 73.32s/it]\n"
     ]
    },
    {
     "name": "stdout",
     "output_type": "stream",
     "text": [
      "[I 2025-09-14 14:21:45,481] Trial 7 finished with value: 0.4446009254490551 and parameters: {'learning_rate': 0.08680879065960802, 'subsample': 0.9189075508596077, 'colsample_bytree': 0.9505326394143616, 'max_depth': 11, 'min_child_weight': 270}. Best is trial 7 with value: 0.4446009254490551.\n",
      "Tuning finished. Best RMSE for CA_2: 0.4446\n"
     ]
    },
    {
     "name": "stderr",
     "output_type": "stream",
     "text": [
      "[I 2025-09-14 14:21:56,267] A new study created in memory with name: no-name-932c0767-95d9-494b-aaca-dd79f4a61085\n"
     ]
    },
    {
     "name": "stdout",
     "output_type": "stream",
     "text": [
      "----- Optimizing for Store: CA_3 -----\n"
     ]
    },
    {
     "name": "stderr",
     "output_type": "stream",
     "text": [
      "Best trial: 0. Best value: 0.644012:  12%|█▎        | 1/8 [00:56<06:33, 56.28s/it]"
     ]
    },
    {
     "name": "stdout",
     "output_type": "stream",
     "text": [
      "[I 2025-09-14 14:22:52,555] Trial 0 finished with value: 0.6440124504488125 and parameters: {'learning_rate': 0.1678898033792411, 'subsample': 0.6880955194707152, 'colsample_bytree': 0.6530322441901092, 'max_depth': 9, 'min_child_weight': 98}. Best is trial 0 with value: 0.6440124504488125.\n"
     ]
    },
    {
     "name": "stderr",
     "output_type": "stream",
     "text": [
      "Best trial: 1. Best value: 0.625712:  25%|██▌       | 2/8 [03:24<11:02, 110.39s/it]"
     ]
    },
    {
     "name": "stdout",
     "output_type": "stream",
     "text": [
      "[I 2025-09-14 14:25:20,828] Trial 1 finished with value: 0.625712274948169 and parameters: {'learning_rate': 0.059822821948116216, 'subsample': 0.9316562132173117, 'colsample_bytree': 0.6787562004857731, 'max_depth': 9, 'min_child_weight': 195}. Best is trial 1 with value: 0.625712274948169.\n"
     ]
    },
    {
     "name": "stderr",
     "output_type": "stream",
     "text": [
      "Best trial: 1. Best value: 0.625712:  38%|███▊      | 3/8 [08:55<17:36, 211.25s/it]"
     ]
    },
    {
     "name": "stdout",
     "output_type": "stream",
     "text": [
      "[I 2025-09-14 14:30:52,086] Trial 2 finished with value: 0.6405623800795145 and parameters: {'learning_rate': 0.011243676672596216, 'subsample': 0.6726611231791976, 'colsample_bytree': 0.6731715613685444, 'max_depth': 12, 'min_child_weight': 87}. Best is trial 1 with value: 0.625712274948169.\n"
     ]
    },
    {
     "name": "stderr",
     "output_type": "stream",
     "text": [
      "Best trial: 1. Best value: 0.625712:  50%|█████     | 4/8 [09:48<09:54, 148.51s/it]"
     ]
    },
    {
     "name": "stdout",
     "output_type": "stream",
     "text": [
      "[I 2025-09-14 14:31:44,434] Trial 3 finished with value: 0.6262086625456735 and parameters: {'learning_rate': 0.0923304934451688, 'subsample': 0.7041956666108946, 'colsample_bytree': 0.9258037699721975, 'max_depth': 11, 'min_child_weight': 59}. Best is trial 1 with value: 0.625712274948169.\n"
     ]
    },
    {
     "name": "stderr",
     "output_type": "stream",
     "text": [
      "Best trial: 1. Best value: 0.625712:  62%|██████▎   | 5/8 [11:34<06:40, 133.39s/it]"
     ]
    },
    {
     "name": "stdout",
     "output_type": "stream",
     "text": [
      "[I 2025-09-14 14:33:31,004] Trial 4 finished with value: 0.6685881837816854 and parameters: {'learning_rate': 0.14634014658190067, 'subsample': 0.9692516787320664, 'colsample_bytree': 0.6202263849835311, 'max_depth': 7, 'min_child_weight': 441}. Best is trial 1 with value: 0.625712274948169.\n"
     ]
    },
    {
     "name": "stderr",
     "output_type": "stream",
     "text": [
      "Best trial: 1. Best value: 0.625712:  75%|███████▌  | 6/8 [13:15<04:04, 122.22s/it]"
     ]
    },
    {
     "name": "stdout",
     "output_type": "stream",
     "text": [
      "[I 2025-09-14 14:35:11,547] Trial 5 finished with value: 0.6363511691946758 and parameters: {'learning_rate': 0.05897254491549453, 'subsample': 0.6145698048678608, 'colsample_bytree': 0.701366622800061, 'max_depth': 12, 'min_child_weight': 129}. Best is trial 1 with value: 0.625712274948169.\n"
     ]
    },
    {
     "name": "stderr",
     "output_type": "stream",
     "text": [
      "Best trial: 1. Best value: 0.625712:  88%|████████▊ | 7/8 [16:33<02:27, 147.12s/it]"
     ]
    },
    {
     "name": "stdout",
     "output_type": "stream",
     "text": [
      "[I 2025-09-14 14:38:29,919] Trial 6 finished with value: 0.6560566481083712 and parameters: {'learning_rate': 0.022517902218483182, 'subsample': 0.6528532727503944, 'colsample_bytree': 0.7489646032875962, 'max_depth': 8, 'min_child_weight': 176}. Best is trial 1 with value: 0.625712274948169.\n"
     ]
    },
    {
     "name": "stderr",
     "output_type": "stream",
     "text": [
      "Best trial: 1. Best value: 0.625712: 100%|██████████| 8/8 [18:44<00:00, 140.56s/it]\n"
     ]
    },
    {
     "name": "stdout",
     "output_type": "stream",
     "text": [
      "[I 2025-09-14 14:40:40,747] Trial 7 finished with value: 0.6298600776768564 and parameters: {'learning_rate': 0.07231859989647958, 'subsample': 0.8496647659217037, 'colsample_bytree': 0.8529519222328728, 'max_depth': 11, 'min_child_weight': 241}. Best is trial 1 with value: 0.625712274948169.\n",
      "Tuning finished. Best RMSE for CA_3: 0.6257\n"
     ]
    },
    {
     "name": "stderr",
     "output_type": "stream",
     "text": [
      "[I 2025-09-14 14:40:46,608] A new study created in memory with name: no-name-56d44035-05c7-482a-9744-ea476962bc21\n"
     ]
    },
    {
     "name": "stdout",
     "output_type": "stream",
     "text": [
      "----- Optimizing for Store: CA_4 -----\n"
     ]
    },
    {
     "name": "stderr",
     "output_type": "stream",
     "text": [
      "Best trial: 0. Best value: 0.298123:  12%|█▎        | 1/8 [00:45<05:15, 45.02s/it]"
     ]
    },
    {
     "name": "stdout",
     "output_type": "stream",
     "text": [
      "[I 2025-09-14 14:41:31,623] Trial 0 finished with value: 0.2981225203964792 and parameters: {'learning_rate': 0.13425909850149767, 'subsample': 0.7015666473814074, 'colsample_bytree': 0.7707269600561912, 'max_depth': 6, 'min_child_weight': 460}. Best is trial 0 with value: 0.2981225203964792.\n"
     ]
    },
    {
     "name": "stderr",
     "output_type": "stream",
     "text": [
      "Best trial: 1. Best value: 0.293045:  25%|██▌       | 2/8 [02:09<06:49, 68.31s/it]"
     ]
    },
    {
     "name": "stdout",
     "output_type": "stream",
     "text": [
      "[I 2025-09-14 14:42:56,240] Trial 1 finished with value: 0.29304521198660183 and parameters: {'learning_rate': 0.03207481223040189, 'subsample': 0.9544029487506117, 'colsample_bytree': 0.9781349131399089, 'max_depth': 5, 'min_child_weight': 149}. Best is trial 1 with value: 0.29304521198660183.\n"
     ]
    },
    {
     "name": "stderr",
     "output_type": "stream",
     "text": [
      "Best trial: 2. Best value: 0.289433:  38%|███▊      | 3/8 [02:48<04:35, 55.08s/it]"
     ]
    },
    {
     "name": "stdout",
     "output_type": "stream",
     "text": [
      "[I 2025-09-14 14:43:35,581] Trial 2 finished with value: 0.2894326881061422 and parameters: {'learning_rate': 0.16471233771907354, 'subsample': 0.8740239620834479, 'colsample_bytree': 0.723808244021219, 'max_depth': 9, 'min_child_weight': 421}. Best is trial 2 with value: 0.2894326881061422.\n"
     ]
    },
    {
     "name": "stderr",
     "output_type": "stream",
     "text": [
      "Best trial: 3. Best value: 0.280907:  50%|█████     | 4/8 [04:17<04:33, 68.37s/it]"
     ]
    },
    {
     "name": "stdout",
     "output_type": "stream",
     "text": [
      "[I 2025-09-14 14:45:04,323] Trial 3 finished with value: 0.2809068520306421 and parameters: {'learning_rate': 0.06526574272872368, 'subsample': 0.9502556214646753, 'colsample_bytree': 0.9619506298559699, 'max_depth': 12, 'min_child_weight': 470}. Best is trial 3 with value: 0.2809068520306421.\n"
     ]
    },
    {
     "name": "stderr",
     "output_type": "stream",
     "text": [
      "Best trial: 3. Best value: 0.280907:  62%|██████▎   | 5/8 [04:51<02:47, 55.97s/it]"
     ]
    },
    {
     "name": "stdout",
     "output_type": "stream",
     "text": [
      "[I 2025-09-14 14:45:38,314] Trial 4 finished with value: 0.286886543943391 and parameters: {'learning_rate': 0.15989151047910805, 'subsample': 0.6610103396291053, 'colsample_bytree': 0.671177247547673, 'max_depth': 9, 'min_child_weight': 228}. Best is trial 3 with value: 0.2809068520306421.\n"
     ]
    },
    {
     "name": "stderr",
     "output_type": "stream",
     "text": [
      "Best trial: 3. Best value: 0.280907:  75%|███████▌  | 6/8 [05:24<01:35, 47.96s/it]"
     ]
    },
    {
     "name": "stdout",
     "output_type": "stream",
     "text": [
      "[I 2025-09-14 14:46:10,733] Trial 5 finished with value: 0.30192115831618266 and parameters: {'learning_rate': 0.15924438432895377, 'subsample': 0.9731677565810761, 'colsample_bytree': 0.6222577658228668, 'max_depth': 5, 'min_child_weight': 350}. Best is trial 3 with value: 0.2809068520306421.\n"
     ]
    },
    {
     "name": "stderr",
     "output_type": "stream",
     "text": [
      "Best trial: 3. Best value: 0.280907:  88%|████████▊ | 7/8 [06:18<00:50, 50.06s/it]"
     ]
    },
    {
     "name": "stdout",
     "output_type": "stream",
     "text": [
      "[I 2025-09-14 14:47:05,118] Trial 6 finished with value: 0.28939126623999295 and parameters: {'learning_rate': 0.1005250321596395, 'subsample': 0.8249640189900045, 'colsample_bytree': 0.6708728883320254, 'max_depth': 7, 'min_child_weight': 354}. Best is trial 3 with value: 0.2809068520306421.\n"
     ]
    },
    {
     "name": "stderr",
     "output_type": "stream",
     "text": [
      "Best trial: 7. Best value: 0.268421: 100%|██████████| 8/8 [07:08<00:00, 53.57s/it]\n"
     ]
    },
    {
     "name": "stdout",
     "output_type": "stream",
     "text": [
      "[I 2025-09-14 14:47:55,138] Trial 7 finished with value: 0.26842125091844354 and parameters: {'learning_rate': 0.09612427280511736, 'subsample': 0.981406472414472, 'colsample_bytree': 0.7344946136175761, 'max_depth': 12, 'min_child_weight': 97}. Best is trial 7 with value: 0.26842125091844354.\n",
      "Tuning finished. Best RMSE for CA_4: 0.2684\n"
     ]
    },
    {
     "name": "stderr",
     "output_type": "stream",
     "text": [
      "[I 2025-09-14 14:47:59,853] A new study created in memory with name: no-name-29c7b431-154b-479c-b92b-ec3bac5e6f8b\n"
     ]
    },
    {
     "name": "stdout",
     "output_type": "stream",
     "text": [
      "----- Optimizing for Store: TX_1 -----\n"
     ]
    },
    {
     "name": "stderr",
     "output_type": "stream",
     "text": [
      "Best trial: 0. Best value: 0.577784:  12%|█▎        | 1/8 [01:25<09:59, 85.64s/it]"
     ]
    },
    {
     "name": "stdout",
     "output_type": "stream",
     "text": [
      "[I 2025-09-14 14:49:25,497] Trial 0 finished with value: 0.5777836384639037 and parameters: {'learning_rate': 0.04158931503319595, 'subsample': 0.8910927180272881, 'colsample_bytree': 0.8128945490977968, 'max_depth': 5, 'min_child_weight': 191}. Best is trial 0 with value: 0.5777836384639037.\n"
     ]
    },
    {
     "name": "stderr",
     "output_type": "stream",
     "text": [
      "Best trial: 1. Best value: 0.548922:  25%|██▌       | 2/8 [01:56<05:20, 53.44s/it]"
     ]
    },
    {
     "name": "stdout",
     "output_type": "stream",
     "text": [
      "[I 2025-09-14 14:49:56,407] Trial 1 finished with value: 0.5489219503874732 and parameters: {'learning_rate': 0.15300725527859935, 'subsample': 0.7448275537711208, 'colsample_bytree': 0.8058833540607839, 'max_depth': 7, 'min_child_weight': 96}. Best is trial 1 with value: 0.5489219503874732.\n"
     ]
    },
    {
     "name": "stderr",
     "output_type": "stream",
     "text": [
      "Best trial: 2. Best value: 0.538143:  38%|███▊      | 3/8 [02:55<04:38, 55.74s/it]"
     ]
    },
    {
     "name": "stdout",
     "output_type": "stream",
     "text": [
      "[I 2025-09-14 14:50:54,871] Trial 2 finished with value: 0.5381431756843427 and parameters: {'learning_rate': 0.0809826247806554, 'subsample': 0.919488483645164, 'colsample_bytree': 0.9251999142680658, 'max_depth': 9, 'min_child_weight': 241}. Best is trial 2 with value: 0.5381431756843427.\n"
     ]
    },
    {
     "name": "stderr",
     "output_type": "stream",
     "text": [
      "Best trial: 3. Best value: 0.515224:  50%|█████     | 4/8 [05:44<06:41, 100.49s/it]"
     ]
    },
    {
     "name": "stdout",
     "output_type": "stream",
     "text": [
      "[I 2025-09-14 14:53:43,972] Trial 3 finished with value: 0.5152236937369402 and parameters: {'learning_rate': 0.022139587944577398, 'subsample': 0.9295548605946364, 'colsample_bytree': 0.6440552586632375, 'max_depth': 11, 'min_child_weight': 132}. Best is trial 3 with value: 0.5152236937369402.\n"
     ]
    },
    {
     "name": "stderr",
     "output_type": "stream",
     "text": [
      "Best trial: 3. Best value: 0.515224:  62%|██████▎   | 5/8 [06:14<03:45, 75.04s/it] "
     ]
    },
    {
     "name": "stdout",
     "output_type": "stream",
     "text": [
      "[I 2025-09-14 14:54:13,878] Trial 4 finished with value: 0.5838315629851499 and parameters: {'learning_rate': 0.18928189558026307, 'subsample': 0.6867275821912722, 'colsample_bytree': 0.8116514770532277, 'max_depth': 6, 'min_child_weight': 274}. Best is trial 3 with value: 0.5152236937369402.\n"
     ]
    },
    {
     "name": "stderr",
     "output_type": "stream",
     "text": [
      "Best trial: 3. Best value: 0.515224:  75%|███████▌  | 6/8 [08:38<03:17, 98.56s/it]"
     ]
    },
    {
     "name": "stdout",
     "output_type": "stream",
     "text": [
      "[I 2025-09-14 14:56:38,098] Trial 5 finished with value: 0.5414692048080647 and parameters: {'learning_rate': 0.040222280575857534, 'subsample': 0.6437572440395986, 'colsample_bytree': 0.6291917418507373, 'max_depth': 6, 'min_child_weight': 114}. Best is trial 3 with value: 0.5152236937369402.\n"
     ]
    },
    {
     "name": "stderr",
     "output_type": "stream",
     "text": [
      "Best trial: 3. Best value: 0.515224:  88%|████████▊ | 7/8 [09:53<01:31, 91.00s/it]"
     ]
    },
    {
     "name": "stdout",
     "output_type": "stream",
     "text": [
      "[I 2025-09-14 14:57:53,546] Trial 6 finished with value: 0.5260383272222394 and parameters: {'learning_rate': 0.06652589138162014, 'subsample': 0.6103923191174616, 'colsample_bytree': 0.6205587642037239, 'max_depth': 8, 'min_child_weight': 123}. Best is trial 3 with value: 0.5152236937369402.\n"
     ]
    },
    {
     "name": "stderr",
     "output_type": "stream",
     "text": [
      "Best trial: 3. Best value: 0.515224: 100%|██████████| 8/8 [10:33<00:00, 79.24s/it]\n"
     ]
    },
    {
     "name": "stdout",
     "output_type": "stream",
     "text": [
      "[I 2025-09-14 14:58:33,748] Trial 7 finished with value: 0.5514175581211684 and parameters: {'learning_rate': 0.1617836207690116, 'subsample': 0.7168504420847415, 'colsample_bytree': 0.701244573921062, 'max_depth': 6, 'min_child_weight': 297}. Best is trial 3 with value: 0.5152236937369402.\n",
      "Tuning finished. Best RMSE for TX_1: 0.5152\n"
     ]
    },
    {
     "name": "stderr",
     "output_type": "stream",
     "text": [
      "[I 2025-09-14 14:58:38,204] A new study created in memory with name: no-name-b6c4b4b1-720f-493f-a472-7110fcb670cd\n"
     ]
    },
    {
     "name": "stdout",
     "output_type": "stream",
     "text": [
      "----- Optimizing for Store: TX_2 -----\n"
     ]
    },
    {
     "name": "stderr",
     "output_type": "stream",
     "text": [
      "Best trial: 0. Best value: 0.485131:  12%|█▎        | 1/8 [01:31<10:37, 91.13s/it]"
     ]
    },
    {
     "name": "stdout",
     "output_type": "stream",
     "text": [
      "[I 2025-09-14 15:00:09,326] Trial 0 finished with value: 0.48513085856312116 and parameters: {'learning_rate': 0.03295584529435138, 'subsample': 0.6380193138963955, 'colsample_bytree': 0.7406057612610146, 'max_depth': 8, 'min_child_weight': 111}. Best is trial 0 with value: 0.48513085856312116.\n"
     ]
    },
    {
     "name": "stderr",
     "output_type": "stream",
     "text": [
      "Best trial: 0. Best value: 0.485131:  25%|██▌       | 2/8 [04:35<14:35, 145.91s/it]"
     ]
    },
    {
     "name": "stdout",
     "output_type": "stream",
     "text": [
      "[I 2025-09-14 15:03:13,588] Trial 1 finished with value: 0.4987911870867705 and parameters: {'learning_rate': 0.010226431358454488, 'subsample': 0.7058136119907444, 'colsample_bytree': 0.8209595765043578, 'max_depth': 7, 'min_child_weight': 238}. Best is trial 0 with value: 0.48513085856312116.\n"
     ]
    },
    {
     "name": "stderr",
     "output_type": "stream",
     "text": [
      "Best trial: 2. Best value: 0.471854:  38%|███▊      | 3/8 [05:15<08:08, 97.76s/it] "
     ]
    },
    {
     "name": "stdout",
     "output_type": "stream",
     "text": [
      "[I 2025-09-14 15:03:54,037] Trial 2 finished with value: 0.4718539782761537 and parameters: {'learning_rate': 0.19120436896315815, 'subsample': 0.799613693007219, 'colsample_bytree': 0.9050532466494059, 'max_depth': 12, 'min_child_weight': 414}. Best is trial 2 with value: 0.4718539782761537.\n"
     ]
    },
    {
     "name": "stderr",
     "output_type": "stream",
     "text": [
      "Best trial: 2. Best value: 0.471854:  50%|█████     | 4/8 [06:05<05:15, 78.78s/it]"
     ]
    },
    {
     "name": "stdout",
     "output_type": "stream",
     "text": [
      "[I 2025-09-14 15:04:43,722] Trial 3 finished with value: 0.49788920580848595 and parameters: {'learning_rate': 0.07909384935812717, 'subsample': 0.6180274698460219, 'colsample_bytree': 0.6156890149798703, 'max_depth': 7, 'min_child_weight': 448}. Best is trial 2 with value: 0.4718539782761537.\n"
     ]
    },
    {
     "name": "stderr",
     "output_type": "stream",
     "text": [
      "Best trial: 4. Best value: 0.464006:  62%|██████▎   | 5/8 [06:56<03:26, 68.86s/it]"
     ]
    },
    {
     "name": "stdout",
     "output_type": "stream",
     "text": [
      "[I 2025-09-14 15:05:34,999] Trial 4 finished with value: 0.46400603776119353 and parameters: {'learning_rate': 0.07715181445600276, 'subsample': 0.7407738611419679, 'colsample_bytree': 0.7198461105977556, 'max_depth': 12, 'min_child_weight': 117}. Best is trial 4 with value: 0.46400603776119353.\n"
     ]
    },
    {
     "name": "stderr",
     "output_type": "stream",
     "text": [
      "Best trial: 4. Best value: 0.464006:  75%|███████▌  | 6/8 [07:39<01:59, 59.81s/it]"
     ]
    },
    {
     "name": "stdout",
     "output_type": "stream",
     "text": [
      "[I 2025-09-14 15:06:17,223] Trial 5 finished with value: 0.49393172239747213 and parameters: {'learning_rate': 0.07368467390618283, 'subsample': 0.8919287949059461, 'colsample_bytree': 0.9778367182629635, 'max_depth': 7, 'min_child_weight': 473}. Best is trial 4 with value: 0.46400603776119353.\n"
     ]
    },
    {
     "name": "stderr",
     "output_type": "stream",
     "text": [
      "Best trial: 4. Best value: 0.464006:  88%|████████▊ | 7/8 [10:27<01:35, 95.20s/it]"
     ]
    },
    {
     "name": "stdout",
     "output_type": "stream",
     "text": [
      "[I 2025-09-14 15:09:05,293] Trial 6 finished with value: 0.4690612236630778 and parameters: {'learning_rate': 0.017431151470235995, 'subsample': 0.6535543236648605, 'colsample_bytree': 0.8967233523150364, 'max_depth': 11, 'min_child_weight': 276}. Best is trial 4 with value: 0.46400603776119353.\n"
     ]
    },
    {
     "name": "stderr",
     "output_type": "stream",
     "text": [
      "Best trial: 4. Best value: 0.464006: 100%|██████████| 8/8 [11:55<00:00, 89.43s/it]\n"
     ]
    },
    {
     "name": "stdout",
     "output_type": "stream",
     "text": [
      "[I 2025-09-14 15:10:33,663] Trial 7 finished with value: 0.47836422763414704 and parameters: {'learning_rate': 0.05238501835936806, 'subsample': 0.6860868593471695, 'colsample_bytree': 0.7117118082529179, 'max_depth': 10, 'min_child_weight': 378}. Best is trial 4 with value: 0.46400603776119353.\n",
      "Tuning finished. Best RMSE for TX_2: 0.4640\n"
     ]
    },
    {
     "name": "stderr",
     "output_type": "stream",
     "text": [
      "[I 2025-09-14 15:10:38,069] A new study created in memory with name: no-name-8bee6441-d64b-47af-8914-bc9544c3b553\n"
     ]
    },
    {
     "name": "stdout",
     "output_type": "stream",
     "text": [
      "----- Optimizing for Store: TX_3 -----\n"
     ]
    },
    {
     "name": "stderr",
     "output_type": "stream",
     "text": [
      "Best trial: 0. Best value: 0.489305:  12%|█▎        | 1/8 [01:17<08:59, 77.11s/it]"
     ]
    },
    {
     "name": "stdout",
     "output_type": "stream",
     "text": [
      "[I 2025-09-14 15:11:55,172] Trial 0 finished with value: 0.48930483533074937 and parameters: {'learning_rate': 0.05920309732481555, 'subsample': 0.8072934926162033, 'colsample_bytree': 0.6410246032762518, 'max_depth': 9, 'min_child_weight': 156}. Best is trial 0 with value: 0.48930483533074937.\n"
     ]
    },
    {
     "name": "stderr",
     "output_type": "stream",
     "text": [
      "Best trial: 0. Best value: 0.489305:  25%|██▌       | 2/8 [02:04<05:57, 59.51s/it]"
     ]
    },
    {
     "name": "stdout",
     "output_type": "stream",
     "text": [
      "[I 2025-09-14 15:12:42,368] Trial 1 finished with value: 0.49705860596307483 and parameters: {'learning_rate': 0.169059832449186, 'subsample': 0.8629546938190811, 'colsample_bytree': 0.836686826120731, 'max_depth': 12, 'min_child_weight': 495}. Best is trial 0 with value: 0.48930483533074937.\n"
     ]
    },
    {
     "name": "stderr",
     "output_type": "stream",
     "text": [
      "Best trial: 0. Best value: 0.489305:  38%|███▊      | 3/8 [02:48<04:23, 52.75s/it]"
     ]
    },
    {
     "name": "stdout",
     "output_type": "stream",
     "text": [
      "[I 2025-09-14 15:13:27,057] Trial 2 finished with value: 0.5145384292727226 and parameters: {'learning_rate': 0.19391244194190088, 'subsample': 0.7038315092907247, 'colsample_bytree': 0.6181059166501327, 'max_depth': 11, 'min_child_weight': 384}. Best is trial 0 with value: 0.48930483533074937.\n"
     ]
    },
    {
     "name": "stderr",
     "output_type": "stream",
     "text": [
      "Best trial: 0. Best value: 0.489305:  50%|█████     | 4/8 [04:13<04:20, 65.10s/it]"
     ]
    },
    {
     "name": "stdout",
     "output_type": "stream",
     "text": [
      "[I 2025-09-14 15:14:51,091] Trial 3 finished with value: 0.49391437522627396 and parameters: {'learning_rate': 0.07496195321325895, 'subsample': 0.8843469905429774, 'colsample_bytree': 0.6279600014574499, 'max_depth': 10, 'min_child_weight': 283}. Best is trial 0 with value: 0.48930483533074937.\n"
     ]
    },
    {
     "name": "stderr",
     "output_type": "stream",
     "text": [
      "Best trial: 0. Best value: 0.489305:  62%|██████▎   | 5/8 [04:57<02:52, 57.64s/it]"
     ]
    },
    {
     "name": "stdout",
     "output_type": "stream",
     "text": [
      "[I 2025-09-14 15:15:35,503] Trial 4 finished with value: 0.5026556064458112 and parameters: {'learning_rate': 0.06983873277820322, 'subsample': 0.6153573587851541, 'colsample_bytree': 0.891970869951813, 'max_depth': 9, 'min_child_weight': 194}. Best is trial 0 with value: 0.48930483533074937.\n"
     ]
    },
    {
     "name": "stderr",
     "output_type": "stream",
     "text": [
      "Best trial: 0. Best value: 0.489305:  75%|███████▌  | 6/8 [05:18<01:30, 45.21s/it]"
     ]
    },
    {
     "name": "stdout",
     "output_type": "stream",
     "text": [
      "[I 2025-09-14 15:15:56,569] Trial 5 finished with value: 0.5080564353168885 and parameters: {'learning_rate': 0.14963655944782311, 'subsample': 0.7293754256521808, 'colsample_bytree': 0.864102863571834, 'max_depth': 9, 'min_child_weight': 89}. Best is trial 0 with value: 0.48930483533074937.\n"
     ]
    },
    {
     "name": "stderr",
     "output_type": "stream",
     "text": [
      "Best trial: 0. Best value: 0.489305:  88%|████████▊ | 7/8 [06:06<00:46, 46.19s/it]"
     ]
    },
    {
     "name": "stdout",
     "output_type": "stream",
     "text": [
      "[I 2025-09-14 15:16:44,811] Trial 6 finished with value: 0.5004989995041336 and parameters: {'learning_rate': 0.14665000147533766, 'subsample': 0.6164880037018627, 'colsample_bytree': 0.7164506369612564, 'max_depth': 10, 'min_child_weight': 398}. Best is trial 0 with value: 0.48930483533074937.\n"
     ]
    },
    {
     "name": "stderr",
     "output_type": "stream",
     "text": [
      "Best trial: 0. Best value: 0.489305: 100%|██████████| 8/8 [06:39<00:00, 49.93s/it]\n"
     ]
    },
    {
     "name": "stdout",
     "output_type": "stream",
     "text": [
      "[I 2025-09-14 15:17:17,524] Trial 7 finished with value: 0.5464532042987513 and parameters: {'learning_rate': 0.1532284933217604, 'subsample': 0.7805106604257329, 'colsample_bytree': 0.8730373619511773, 'max_depth': 5, 'min_child_weight': 270}. Best is trial 0 with value: 0.48930483533074937.\n",
      "Tuning finished. Best RMSE for TX_3: 0.4893\n"
     ]
    },
    {
     "name": "stderr",
     "output_type": "stream",
     "text": [
      "[I 2025-09-14 15:17:21,709] A new study created in memory with name: no-name-d75bca5f-b8e5-40ab-831d-5cc482b0f556\n"
     ]
    },
    {
     "name": "stdout",
     "output_type": "stream",
     "text": [
      "----- Optimizing for Store: WI_1 -----\n"
     ]
    },
    {
     "name": "stderr",
     "output_type": "stream",
     "text": [
      "Best trial: 0. Best value: 0.351325:  12%|█▎        | 1/8 [00:28<03:22, 28.91s/it]"
     ]
    },
    {
     "name": "stdout",
     "output_type": "stream",
     "text": [
      "[I 2025-09-14 15:17:50,611] Trial 0 finished with value: 0.35132547441585016 and parameters: {'learning_rate': 0.18384461268506105, 'subsample': 0.8619600206229672, 'colsample_bytree': 0.904173844829619, 'max_depth': 7, 'min_child_weight': 197}. Best is trial 0 with value: 0.35132547441585016.\n"
     ]
    },
    {
     "name": "stderr",
     "output_type": "stream",
     "text": [
      "Best trial: 1. Best value: 0.348896:  25%|██▌       | 2/8 [01:10<03:39, 36.65s/it]"
     ]
    },
    {
     "name": "stdout",
     "output_type": "stream",
     "text": [
      "[I 2025-09-14 15:18:32,686] Trial 1 finished with value: 0.3488959593564333 and parameters: {'learning_rate': 0.11283885762474356, 'subsample': 0.8879846459515965, 'colsample_bytree': 0.906244641741108, 'max_depth': 8, 'min_child_weight': 82}. Best is trial 1 with value: 0.3488959593564333.\n"
     ]
    },
    {
     "name": "stderr",
     "output_type": "stream",
     "text": [
      "Best trial: 1. Best value: 0.348896:  38%|███▊      | 3/8 [01:48<03:06, 37.25s/it]"
     ]
    },
    {
     "name": "stdout",
     "output_type": "stream",
     "text": [
      "[I 2025-09-14 15:19:10,656] Trial 2 finished with value: 0.34987048835339574 and parameters: {'learning_rate': 0.16700820869149957, 'subsample': 0.9115399938129745, 'colsample_bytree': 0.7680935617216476, 'max_depth': 9, 'min_child_weight': 84}. Best is trial 1 with value: 0.3488959593564333.\n"
     ]
    },
    {
     "name": "stderr",
     "output_type": "stream",
     "text": [
      "Best trial: 1. Best value: 0.348896:  50%|█████     | 4/8 [03:30<04:10, 62.62s/it]"
     ]
    },
    {
     "name": "stdout",
     "output_type": "stream",
     "text": [
      "[I 2025-09-14 15:20:52,165] Trial 3 finished with value: 0.36260685825563505 and parameters: {'learning_rate': 0.06208337265253938, 'subsample': 0.81233178863206, 'colsample_bytree': 0.6095281833662726, 'max_depth': 5, 'min_child_weight': 194}. Best is trial 1 with value: 0.3488959593564333.\n"
     ]
    },
    {
     "name": "stderr",
     "output_type": "stream",
     "text": [
      "Best trial: 1. Best value: 0.348896:  62%|██████▎   | 5/8 [04:47<03:23, 67.88s/it]"
     ]
    },
    {
     "name": "stdout",
     "output_type": "stream",
     "text": [
      "[I 2025-09-14 15:22:09,368] Trial 4 finished with value: 0.3658630957079263 and parameters: {'learning_rate': 0.13407932611244494, 'subsample': 0.8979352519634367, 'colsample_bytree': 0.6258090080827078, 'max_depth': 5, 'min_child_weight': 139}. Best is trial 1 with value: 0.3488959593564333.\n"
     ]
    },
    {
     "name": "stderr",
     "output_type": "stream",
     "text": [
      "Best trial: 1. Best value: 0.348896:  75%|███████▌  | 6/8 [05:50<02:12, 66.16s/it]"
     ]
    },
    {
     "name": "stdout",
     "output_type": "stream",
     "text": [
      "[I 2025-09-14 15:23:12,181] Trial 5 finished with value: 0.35721993083022846 and parameters: {'learning_rate': 0.12123750965270975, 'subsample': 0.7713431541832789, 'colsample_bytree': 0.8138450604554153, 'max_depth': 7, 'min_child_weight': 410}. Best is trial 1 with value: 0.3488959593564333.\n"
     ]
    },
    {
     "name": "stderr",
     "output_type": "stream",
     "text": [
      "Best trial: 6. Best value: 0.345587:  88%|████████▊ | 7/8 [06:39<01:00, 60.72s/it]"
     ]
    },
    {
     "name": "stdout",
     "output_type": "stream",
     "text": [
      "[I 2025-09-14 15:24:01,694] Trial 6 finished with value: 0.3455869404012987 and parameters: {'learning_rate': 0.07353173042955578, 'subsample': 0.8529056580838292, 'colsample_bytree': 0.7478092604623355, 'max_depth': 8, 'min_child_weight': 134}. Best is trial 6 with value: 0.3455869404012987.\n"
     ]
    },
    {
     "name": "stderr",
     "output_type": "stream",
     "text": [
      "Best trial: 6. Best value: 0.345587: 100%|██████████| 8/8 [08:35<00:00, 64.48s/it]\n"
     ]
    },
    {
     "name": "stdout",
     "output_type": "stream",
     "text": [
      "[I 2025-09-14 15:25:57,516] Trial 7 finished with value: 0.35251283415974705 and parameters: {'learning_rate': 0.03558025281134826, 'subsample': 0.6749144049517714, 'colsample_bytree': 0.6433942338425447, 'max_depth': 7, 'min_child_weight': 61}. Best is trial 6 with value: 0.3455869404012987.\n",
      "Tuning finished. Best RMSE for WI_1: 0.3456\n"
     ]
    },
    {
     "name": "stderr",
     "output_type": "stream",
     "text": [
      "[I 2025-09-14 15:26:07,255] A new study created in memory with name: no-name-fa2660a9-9689-483f-b35a-495b222fc8a2\n"
     ]
    },
    {
     "name": "stdout",
     "output_type": "stream",
     "text": [
      "----- Optimizing for Store: WI_2 -----\n"
     ]
    },
    {
     "name": "stderr",
     "output_type": "stream",
     "text": [
      "Best trial: 0. Best value: 0.988735:  12%|█▎        | 1/8 [00:38<04:32, 38.86s/it]"
     ]
    },
    {
     "name": "stdout",
     "output_type": "stream",
     "text": [
      "[I 2025-09-14 15:26:46,106] Trial 0 finished with value: 0.9887345371411684 and parameters: {'learning_rate': 0.07813181947535577, 'subsample': 0.722041163719603, 'colsample_bytree': 0.8904344048448443, 'max_depth': 5, 'min_child_weight': 310}. Best is trial 0 with value: 0.9887345371411684.\n"
     ]
    },
    {
     "name": "stderr",
     "output_type": "stream",
     "text": [
      "Best trial: 1. Best value: 0.983823:  25%|██▌       | 2/8 [01:27<04:28, 44.68s/it]"
     ]
    },
    {
     "name": "stdout",
     "output_type": "stream",
     "text": [
      "[I 2025-09-14 15:27:34,856] Trial 1 finished with value: 0.9838228342221024 and parameters: {'learning_rate': 0.06781540463428752, 'subsample': 0.7046568637115113, 'colsample_bytree': 0.7233164950068808, 'max_depth': 8, 'min_child_weight': 194}. Best is trial 1 with value: 0.9838228342221024.\n"
     ]
    },
    {
     "name": "stderr",
     "output_type": "stream",
     "text": [
      "Best trial: 1. Best value: 0.983823:  38%|███▊      | 3/8 [01:55<03:04, 36.81s/it]"
     ]
    },
    {
     "name": "stdout",
     "output_type": "stream",
     "text": [
      "[I 2025-09-14 15:28:02,294] Trial 2 finished with value: 1.0031989310998104 and parameters: {'learning_rate': 0.1797882812846728, 'subsample': 0.6736078214548484, 'colsample_bytree': 0.9941275019890544, 'max_depth': 5, 'min_child_weight': 121}. Best is trial 1 with value: 0.9838228342221024.\n"
     ]
    },
    {
     "name": "stderr",
     "output_type": "stream",
     "text": [
      "Best trial: 3. Best value: 0.976112:  50%|█████     | 4/8 [02:34<02:30, 37.72s/it]"
     ]
    },
    {
     "name": "stdout",
     "output_type": "stream",
     "text": [
      "[I 2025-09-14 15:28:41,405] Trial 3 finished with value: 0.9761120482113207 and parameters: {'learning_rate': 0.15875288299134477, 'subsample': 0.7094516782064799, 'colsample_bytree': 0.7747129914523458, 'max_depth': 10, 'min_child_weight': 467}. Best is trial 3 with value: 0.9761120482113207.\n"
     ]
    },
    {
     "name": "stderr",
     "output_type": "stream",
     "text": [
      "Best trial: 4. Best value: 0.952398:  62%|██████▎   | 5/8 [03:13<01:54, 38.33s/it]"
     ]
    },
    {
     "name": "stdout",
     "output_type": "stream",
     "text": [
      "[I 2025-09-14 15:29:20,824] Trial 4 finished with value: 0.9523976474246657 and parameters: {'learning_rate': 0.07047000717173708, 'subsample': 0.90626729603358, 'colsample_bytree': 0.9652039370999788, 'max_depth': 8, 'min_child_weight': 199}. Best is trial 4 with value: 0.9523976474246657.\n"
     ]
    },
    {
     "name": "stderr",
     "output_type": "stream",
     "text": [
      "Best trial: 4. Best value: 0.952398:  75%|███████▌  | 6/8 [03:41<01:09, 34.81s/it]"
     ]
    },
    {
     "name": "stdout",
     "output_type": "stream",
     "text": [
      "[I 2025-09-14 15:29:48,815] Trial 5 finished with value: 0.9811340141995256 and parameters: {'learning_rate': 0.1997827172906716, 'subsample': 0.8720691090104729, 'colsample_bytree': 0.6925176281485201, 'max_depth': 8, 'min_child_weight': 230}. Best is trial 4 with value: 0.9523976474246657.\n"
     ]
    },
    {
     "name": "stderr",
     "output_type": "stream",
     "text": [
      "Best trial: 4. Best value: 0.952398:  88%|████████▊ | 7/8 [05:09<00:52, 52.14s/it]"
     ]
    },
    {
     "name": "stdout",
     "output_type": "stream",
     "text": [
      "[I 2025-09-14 15:31:16,620] Trial 6 finished with value: 0.9710083449011998 and parameters: {'learning_rate': 0.03216498980601575, 'subsample': 0.7471610988626602, 'colsample_bytree': 0.6317425290185731, 'max_depth': 9, 'min_child_weight': 64}. Best is trial 4 with value: 0.9523976474246657.\n"
     ]
    },
    {
     "name": "stderr",
     "output_type": "stream",
     "text": [
      "Best trial: 4. Best value: 0.952398: 100%|██████████| 8/8 [05:31<00:00, 41.44s/it]\n"
     ]
    },
    {
     "name": "stdout",
     "output_type": "stream",
     "text": [
      "[I 2025-09-14 15:31:38,777] Trial 7 finished with value: 1.0108932603356866 and parameters: {'learning_rate': 0.17649624970673405, 'subsample': 0.8869459158989694, 'colsample_bytree': 0.7580162207772316, 'max_depth': 5, 'min_child_weight': 130}. Best is trial 4 with value: 0.9523976474246657.\n",
      "Tuning finished. Best RMSE for WI_2: 0.9524\n"
     ]
    },
    {
     "name": "stderr",
     "output_type": "stream",
     "text": [
      "[I 2025-09-14 15:31:45,008] A new study created in memory with name: no-name-9317c5f2-7629-40eb-9803-5266b0ac7c5e\n"
     ]
    },
    {
     "name": "stdout",
     "output_type": "stream",
     "text": [
      "----- Optimizing for Store: WI_3 -----\n"
     ]
    },
    {
     "name": "stderr",
     "output_type": "stream",
     "text": [
      "Best trial: 0. Best value: 0.659853:  12%|█▎        | 1/8 [02:19<16:19, 139.88s/it]"
     ]
    },
    {
     "name": "stdout",
     "output_type": "stream",
     "text": [
      "[I 2025-09-14 15:34:04,875] Trial 0 finished with value: 0.6598526521769198 and parameters: {'learning_rate': 0.017480393543870393, 'subsample': 0.600989093697155, 'colsample_bytree': 0.8696673569924911, 'max_depth': 5, 'min_child_weight': 467}. Best is trial 0 with value: 0.6598526521769198.\n"
     ]
    },
    {
     "name": "stderr",
     "output_type": "stream",
     "text": [
      "Best trial: 1. Best value: 0.642426:  25%|██▌       | 2/8 [02:57<07:58, 79.71s/it] "
     ]
    },
    {
     "name": "stdout",
     "output_type": "stream",
     "text": [
      "[I 2025-09-14 15:34:42,472] Trial 1 finished with value: 0.6424258205251371 and parameters: {'learning_rate': 0.11610173517314885, 'subsample': 0.7090150166380271, 'colsample_bytree': 0.7263776038142706, 'max_depth': 6, 'min_child_weight': 355}. Best is trial 1 with value: 0.6424258205251371.\n"
     ]
    },
    {
     "name": "stderr",
     "output_type": "stream",
     "text": [
      "Best trial: 2. Best value: 0.615434:  38%|███▊      | 3/8 [05:12<08:45, 105.07s/it]"
     ]
    },
    {
     "name": "stdout",
     "output_type": "stream",
     "text": [
      "[I 2025-09-14 15:36:57,711] Trial 2 finished with value: 0.615433893700853 and parameters: {'learning_rate': 0.04172397720586524, 'subsample': 0.9134839510701395, 'colsample_bytree': 0.7502578774488565, 'max_depth': 5, 'min_child_weight': 348}. Best is trial 2 with value: 0.615433893700853.\n"
     ]
    },
    {
     "name": "stderr",
     "output_type": "stream",
     "text": [
      "Best trial: 2. Best value: 0.615434:  50%|█████     | 4/8 [05:30<04:42, 70.61s/it] "
     ]
    },
    {
     "name": "stdout",
     "output_type": "stream",
     "text": [
      "[I 2025-09-14 15:37:15,488] Trial 3 finished with value: 0.6558836868260494 and parameters: {'learning_rate': 0.195263086010285, 'subsample': 0.7892347334480879, 'colsample_bytree': 0.971932383422874, 'max_depth': 5, 'min_child_weight': 213}. Best is trial 2 with value: 0.615433893700853.\n"
     ]
    },
    {
     "name": "stderr",
     "output_type": "stream",
     "text": [
      "Best trial: 4. Best value: 0.61507:  62%|██████▎   | 5/8 [06:35<03:25, 68.56s/it] "
     ]
    },
    {
     "name": "stdout",
     "output_type": "stream",
     "text": [
      "[I 2025-09-14 15:38:20,423] Trial 4 finished with value: 0.6150702363512167 and parameters: {'learning_rate': 0.03615195515549668, 'subsample': 0.6194370284591787, 'colsample_bytree': 0.8278303876833264, 'max_depth': 9, 'min_child_weight': 416}. Best is trial 4 with value: 0.6150702363512167.\n"
     ]
    },
    {
     "name": "stderr",
     "output_type": "stream",
     "text": [
      "Best trial: 5. Best value: 0.577626:  75%|███████▌  | 6/8 [07:04<01:50, 55.02s/it]"
     ]
    },
    {
     "name": "stdout",
     "output_type": "stream",
     "text": [
      "[I 2025-09-14 15:38:49,168] Trial 5 finished with value: 0.5776255486408758 and parameters: {'learning_rate': 0.13627530430438628, 'subsample': 0.6129987295360498, 'colsample_bytree': 0.9128218781988009, 'max_depth': 12, 'min_child_weight': 77}. Best is trial 5 with value: 0.5776255486408758.\n"
     ]
    },
    {
     "name": "stderr",
     "output_type": "stream",
     "text": [
      "Best trial: 5. Best value: 0.577626:  88%|████████▊ | 7/8 [07:50<00:52, 52.34s/it]"
     ]
    },
    {
     "name": "stdout",
     "output_type": "stream",
     "text": [
      "[I 2025-09-14 15:39:35,974] Trial 6 finished with value: 0.6467186771161447 and parameters: {'learning_rate': 0.042994000171791606, 'subsample': 0.9321313164838317, 'colsample_bytree': 0.9762555963588679, 'max_depth': 5, 'min_child_weight': 71}. Best is trial 5 with value: 0.5776255486408758.\n"
     ]
    },
    {
     "name": "stderr",
     "output_type": "stream",
     "text": [
      "Best trial: 5. Best value: 0.577626: 100%|██████████| 8/8 [09:22<00:00, 70.35s/it]"
     ]
    },
    {
     "name": "stdout",
     "output_type": "stream",
     "text": [
      "[I 2025-09-14 15:41:07,825] Trial 7 finished with value: 0.5901086477685822 and parameters: {'learning_rate': 0.025425407012468926, 'subsample': 0.874635035386998, 'colsample_bytree': 0.7940290088457628, 'max_depth': 8, 'min_child_weight': 182}. Best is trial 5 with value: 0.5776255486408758.\n",
      "Tuning finished. Best RMSE for WI_3: 0.5776\n"
     ]
    },
    {
     "name": "stderr",
     "output_type": "stream",
     "text": [
      "\n"
     ]
    }
   ],
   "source": [
    "import xgboost as xgb\n",
    "from sklearn.metrics import mean_squared_error\n",
    "\n",
    "print(\"--- Starting Local Evaluation Phase ---\")\n",
    "d_store_id = {0: 'CA_1', 1: 'CA_2', 2: 'CA_3', 3: 'CA_4', 4: 'TX_1', 5: 'TX_2', 6: 'TX_3', 7: 'WI_1', 8: 'WI_2', 9: 'WI_3'}\n",
    "stores = data.store_id.unique().tolist()\n",
    "\n",
    "if not os.path.exists('xgbmodels'):\n",
    "    os.makedirs('xgbmodels')\n",
    "    print(\"Created directory: xgbmodels\")\n",
    "\n",
    "for store in stores:\n",
    "    df = data[data['store_id'] == store]\n",
    "    \n",
    "    X_train, y_train = df[df['d'] < 1885].drop('sold', axis=1), df[df['d'] < 1885]['sold']\n",
    "    X_valid, y_valid = df[(df['d'] >= 1885) & (df['d'] < 1914)].drop('sold', axis=1), df[(df['d'] >= 1885) & (df['d'] < 1914)]['sold']\n",
    "    \n",
    "    def objective(trial):\n",
    "        params = {\n",
    "            'objective': 'reg:squarederror', \n",
    "            'n_estimators': 700,\n",
    "            'learning_rate': trial.suggest_float('learning_rate', 0.01, 0.2),\n",
    "            'subsample': trial.suggest_float('subsample', 0.6, 1.0),\n",
    "            'colsample_bytree': trial.suggest_float('colsample_bytree', 0.6, 1.0),\n",
    "            'max_depth': trial.suggest_int('max_depth', 5, 12),\n",
    "            'min_child_weight': trial.suggest_int('min_child_weight', 50, 500),\n",
    "            'verbosity': 0,\n",
    "            'n_jobs': -1,\n",
    "            'random_state': 42,\n",
    "            'early_stopping_rounds': 20,\n",
    "            'eval_metric': 'rmse' \n",
    "        }\n",
    "        \n",
    "        model = xgb.XGBRegressor(**params)\n",
    "        \n",
    "        model.fit(\n",
    "            X_train, y_train, \n",
    "            eval_set=[(X_valid, y_valid)],\n",
    "            verbose = False\n",
    "        )\n",
    "        \n",
    "        valid_predictions = model.predict(X_valid)\n",
    "        rmse = np.sqrt(mean_squared_error(y_valid, valid_predictions))\n",
    "        \n",
    "        return rmse\n",
    "\n",
    "    print(f'----- Optimizing for Store: {d_store_id[store]} -----')\n",
    "    study = optuna.create_study(direction='minimize')\n",
    "    study.optimize(objective, n_trials=8, show_progress_bar=True)\n",
    "    \n",
    "    best_params = study.best_params\n",
    "    best_rmse = study.best_value\n",
    "    print(f\"Tuning finished. Best RMSE for {d_store_id[store]}: {best_rmse:.4f}\")\n",
    "    joblib.dump(best_params, f'xgbmodels/best_params_{d_store_id[store]}.pkl')"
   ]
  }
 ],
 "metadata": {
  "kernelspec": {
   "display_name": "sellenv",
   "language": "python",
   "name": "python3"
  },
  "language_info": {
   "codemirror_mode": {
    "name": "ipython",
    "version": 3
   },
   "file_extension": ".py",
   "mimetype": "text/x-python",
   "name": "python",
   "nbconvert_exporter": "python",
   "pygments_lexer": "ipython3",
   "version": "3.12.7"
  }
 },
 "nbformat": 4,
 "nbformat_minor": 5
}
